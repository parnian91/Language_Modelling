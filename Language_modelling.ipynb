{
  "nbformat": 4,
  "nbformat_minor": 0,
  "metadata": {
    "colab": {
      "provenance": [],
      "collapsed_sections": [
        "EGWhWDX4cN7l",
        "NhcYc517cmk8",
        "fLMVY-Yfc2rY",
        "6jidRXwDdgca",
        "TqQtEUH0ho8d",
        "j6M8yPlNwFgU",
        "cFaw0ZcNwR87",
        "mRXTTORB05kI",
        "lg7uANLW7F1a",
        "GVxfQVlF8yrR",
        "8aPCJz3hlxIn",
        "mWUviiFDBL5j",
        "W2kYM_FRGjtW",
        "STK_yITNG6cm"
      ],
      "gpuType": "T4",
      "authorship_tag": "ABX9TyOt5iCmITzITs1bkBuU+DIa",
      "include_colab_link": true
    },
    "kernelspec": {
      "name": "python3",
      "display_name": "Python 3"
    },
    "language_info": {
      "name": "python"
    },
    "accelerator": "GPU"
  },
  "cells": [
    {
      "cell_type": "markdown",
      "metadata": {
        "id": "view-in-github",
        "colab_type": "text"
      },
      "source": [
        "<a href=\"https://colab.research.google.com/github/parnian91/Language_Modelling/blob/main/Language_modelling.ipynb\" target=\"_parent\"><img src=\"https://colab.research.google.com/assets/colab-badge.svg\" alt=\"Open In Colab\"/></a>"
      ]
    },
    {
      "cell_type": "code",
      "execution_count": null,
      "metadata": {
        "id": "87YiUqVPbvfe"
      },
      "outputs": [],
      "source": []
    },
    {
      "cell_type": "markdown",
      "source": [
        "#  <font color='#FFE15D'><b>💎 Project : Language Modeling 🎼</b></font>\n"
      ],
      "metadata": {
        "id": "Z0SH4vnscD4e"
      }
    },
    {
      "cell_type": "markdown",
      "source": [
        "# 🔴 **Environment Setup**"
      ],
      "metadata": {
        "id": "EGWhWDX4cN7l"
      }
    },
    {
      "cell_type": "code",
      "source": [
        "!pip install -q torchmetrics"
      ],
      "metadata": {
        "id": "K80AGv9mb0pT"
      },
      "execution_count": null,
      "outputs": []
    },
    {
      "cell_type": "code",
      "source": [
        "!pip install -q portalocker>=2.0.0"
      ],
      "metadata": {
        "id": "FOcgLFwNb0v0"
      },
      "execution_count": null,
      "outputs": []
    },
    {
      "cell_type": "markdown",
      "source": [
        "# 🔴 **Import Libs**"
      ],
      "metadata": {
        "id": "NhcYc517cmk8"
      }
    },
    {
      "cell_type": "code",
      "source": [
        "import numpy as np\n",
        "import matplotlib.pyplot as plt\n",
        "\n",
        "import torchtext\n",
        "from torchtext.datasets import WikiText2\n",
        "from torchtext.data.utils import get_tokenizer\n",
        "from torchtext.vocab import build_vocab_from_iterator\n",
        "\n",
        "import torch\n",
        "from torch import nn\n",
        "from torch.utils.data import DataLoader, Dataset, random_split\n",
        "\n",
        "from torch import optim\n",
        "from torch.nn import functional as F\n",
        "\n",
        "import tqdm\n",
        "import torchmetrics as tm\n",
        "\n",
        "from collections import Counter"
      ],
      "metadata": {
        "id": "uZh9pxY9b01T"
      },
      "execution_count": null,
      "outputs": []
    },
    {
      "cell_type": "code",
      "source": [
        "!python --version"
      ],
      "metadata": {
        "colab": {
          "base_uri": "https://localhost:8080/"
        },
        "id": "8FYWIo68b04U",
        "outputId": "65f27f3c-014a-4380-92c5-6275271ef2e6"
      },
      "execution_count": null,
      "outputs": [
        {
          "output_type": "stream",
          "name": "stdout",
          "text": [
            "Python 3.10.12\n"
          ]
        }
      ]
    },
    {
      "cell_type": "code",
      "source": [
        "for lib in [np, torch, torchtext, tqdm]:\n",
        "  print(lib.__name__, '-->', lib.__version__)"
      ],
      "metadata": {
        "colab": {
          "base_uri": "https://localhost:8080/"
        },
        "id": "qVsIvqP7cuZl",
        "outputId": "5d77495f-1f5b-4e3e-ef37-396b5ee0ed8c"
      },
      "execution_count": null,
      "outputs": [
        {
          "output_type": "stream",
          "name": "stdout",
          "text": [
            "numpy --> 1.23.5\n",
            "torch --> 2.1.0+cu121\n",
            "torchtext --> 0.16.0+cpu\n",
            "tqdm --> 4.66.1\n"
          ]
        }
      ]
    },
    {
      "cell_type": "markdown",
      "source": [
        "# 🔴 **Utils**"
      ],
      "metadata": {
        "id": "fLMVY-Yfc2rY"
      }
    },
    {
      "cell_type": "code",
      "source": [
        "class AverageMeter(object):\n",
        "    \"\"\"Computes and stores the average and current value\"\"\"\n",
        "    def __init__(self):\n",
        "        self.reset()\n",
        "\n",
        "    def reset(self):\n",
        "        self.val = 0\n",
        "        self.avg = 0\n",
        "        self.sum = 0\n",
        "        self.count = 0\n",
        "\n",
        "    def update(self, val, n=1):\n",
        "        self.val = val\n",
        "        self.sum += val * n\n",
        "        self.count += n\n",
        "        self.avg = self.sum / self.count"
      ],
      "metadata": {
        "id": "CzyWQ2T6cusW"
      },
      "execution_count": null,
      "outputs": []
    },
    {
      "cell_type": "code",
      "source": [
        "def num_trainable_params(model):\n",
        "  nums = sum(p.numel() for p in model.parameters() if p.requires_grad)/1e6\n",
        "  return nums"
      ],
      "metadata": {
        "id": "Hct9utaacuvk"
      },
      "execution_count": null,
      "outputs": []
    },
    {
      "cell_type": "markdown",
      "source": [
        "# 🔴 **Dataset**"
      ],
      "metadata": {
        "id": "6jidRXwDdgca"
      }
    },
    {
      "cell_type": "code",
      "source": [
        "train_iter, valid_iter, test_iter = WikiText2('/content/')"
      ],
      "metadata": {
        "id": "zpjIDyLYdhEd"
      },
      "execution_count": null,
      "outputs": []
    },
    {
      "cell_type": "code",
      "source": [
        "train_iter"
      ],
      "metadata": {
        "colab": {
          "base_uri": "https://localhost:8080/"
        },
        "id": "8qxqynkHdmfp",
        "outputId": "589df268-8ae8-4f63-e61e-24c6cada8010"
      },
      "execution_count": null,
      "outputs": [
        {
          "output_type": "execute_result",
          "data": {
            "text/plain": [
              "ShardingFilterIterDataPipe"
            ]
          },
          "metadata": {},
          "execution_count": 9
        }
      ]
    },
    {
      "cell_type": "code",
      "source": [
        "#class CustomDataset(IterableDataset):\n",
        "\n",
        "#  def __init__(self):\n",
        "#    pass\n",
        "\n",
        "#  def __iter__(self):\n",
        "#    pass"
      ],
      "metadata": {
        "id": "XCmHxvP7dmh4"
      },
      "execution_count": null,
      "outputs": []
    },
    {
      "cell_type": "code",
      "source": [
        "train_iter_ = iter(train_iter)\n",
        "train_iter_"
      ],
      "metadata": {
        "colab": {
          "base_uri": "https://localhost:8080/"
        },
        "id": "7s1EGzavdmko",
        "outputId": "1144a96f-3c7b-4c36-f87a-e01bebba377e"
      },
      "execution_count": null,
      "outputs": [
        {
          "output_type": "execute_result",
          "data": {
            "text/plain": [
              "<generator object ShardingFilterIterDataPipe.__iter__ at 0x7db53d0d4c80>"
            ]
          },
          "metadata": {},
          "execution_count": 11
        }
      ]
    },
    {
      "cell_type": "code",
      "source": [
        "next(train_iter_)"
      ],
      "metadata": {
        "colab": {
          "base_uri": "https://localhost:8080/"
        },
        "id": "vTSUQpS0fm3y",
        "outputId": "6d15f15c-a1a4-47b4-a04f-a0dfd4660df6"
      },
      "execution_count": null,
      "outputs": [
        {
          "output_type": "execute_result",
          "data": {
            "text/plain": [
              "' \\n'"
            ],
            "application/vnd.google.colaboratory.intrinsic+json": {
              "type": "string"
            }
          },
          "metadata": {},
          "execution_count": 12
        }
      ]
    },
    {
      "cell_type": "markdown",
      "source": [
        "## 🟠 Build vocabulary and save it"
      ],
      "metadata": {
        "id": "TqQtEUH0ho8d"
      }
    },
    {
      "cell_type": "markdown",
      "source": [
        "🔰 In this section we need to:\n",
        "\n",
        "*   Define a tokenizer using `basic_english`\n",
        "*   Tokenize the dataset and collect tokens\n",
        "*   Build the vocabulary using `build_vocab_from_iterator`\n",
        "*   Manually insert special tokens and set the default index\n"
      ],
      "metadata": {
        "id": "y8iPNW_zhr1n"
      }
    },
    {
      "cell_type": "code",
      "source": [
        "txt = ['@sajad hi sajad! 1 n2 3 #45', 'how are are you?']\n",
        "tokenizer = get_tokenizer('basic_english')\n",
        "[tokenizer(line) for line in txt]\n",
        "list(map(tokenizer, txt))"
      ],
      "metadata": {
        "colab": {
          "base_uri": "https://localhost:8080/"
        },
        "id": "JJCVITJcfm6f",
        "outputId": "070793ee-6ad1-4347-ce9d-1f5f5451ea16"
      },
      "execution_count": null,
      "outputs": [
        {
          "output_type": "execute_result",
          "data": {
            "text/plain": [
              "[['@sajad', 'hi', 'sajad', '!', '1', 'n2', '3', '#45'],\n",
              " ['how', 'are', 'are', 'you', '?']]"
            ]
          },
          "metadata": {},
          "execution_count": 13
        }
      ]
    },
    {
      "cell_type": "code",
      "source": [
        "vocab = build_vocab_from_iterator(map(tokenizer, txt) , specials=['<ukn>'])\n",
        "vocab.set_default_index(vocab['<ukn>'])\n",
        "vocab.get_stoi()"
      ],
      "metadata": {
        "colab": {
          "base_uri": "https://localhost:8080/"
        },
        "id": "MZjNg7rSjegq",
        "outputId": "51cab894-ab5d-49fb-e290-1b57c46a2ca6"
      },
      "execution_count": null,
      "outputs": [
        {
          "output_type": "execute_result",
          "data": {
            "text/plain": [
              "{'sajad': 11,\n",
              " 'n2': 10,\n",
              " 'how': 9,\n",
              " 'you': 12,\n",
              " 'hi': 8,\n",
              " '@sajad': 7,\n",
              " '?': 6,\n",
              " '3': 5,\n",
              " '1': 4,\n",
              " '#45': 3,\n",
              " '!': 2,\n",
              " 'are': 1,\n",
              " '<ukn>': 0}"
            ]
          },
          "metadata": {},
          "execution_count": 14
        }
      ]
    },
    {
      "cell_type": "code",
      "source": [
        "vocab(['hi'])"
      ],
      "metadata": {
        "colab": {
          "base_uri": "https://localhost:8080/"
        },
        "id": "xejowVr3j4vG",
        "outputId": "d714971d-35da-4550-9b43-312ac5fe6d47"
      },
      "execution_count": null,
      "outputs": [
        {
          "output_type": "execute_result",
          "data": {
            "text/plain": [
              "[8]"
            ]
          },
          "metadata": {},
          "execution_count": 15
        }
      ]
    },
    {
      "cell_type": "code",
      "source": [
        "vocab(['hi', 'sajad', '<ukn>'])"
      ],
      "metadata": {
        "colab": {
          "base_uri": "https://localhost:8080/"
        },
        "id": "g60I19IztAUT",
        "outputId": "bf56ed1e-d036-4741-81b2-51c3851219f9"
      },
      "execution_count": null,
      "outputs": [
        {
          "output_type": "execute_result",
          "data": {
            "text/plain": [
              "[8, 11, 0]"
            ]
          },
          "metadata": {},
          "execution_count": 16
        }
      ]
    },
    {
      "cell_type": "code",
      "source": [
        "vocab(['hi', 'sajad', '<ukn>', 'hello'])"
      ],
      "metadata": {
        "colab": {
          "base_uri": "https://localhost:8080/"
        },
        "id": "l0iCYHqnteCY",
        "outputId": "60df22c1-5f2b-41ff-aeb6-000529063d4d"
      },
      "execution_count": null,
      "outputs": [
        {
          "output_type": "execute_result",
          "data": {
            "text/plain": [
              "[8, 11, 0, 0]"
            ]
          },
          "metadata": {},
          "execution_count": 17
        }
      ]
    },
    {
      "cell_type": "code",
      "source": [
        "vocab(['hi', 'sajad', '<ukn>', 'hello', 'Hi'.lower()])"
      ],
      "metadata": {
        "colab": {
          "base_uri": "https://localhost:8080/"
        },
        "id": "F2C5Ch6RtsIm",
        "outputId": "b724db51-3454-4545-b306-d5b93f7a59bc"
      },
      "execution_count": null,
      "outputs": [
        {
          "output_type": "execute_result",
          "data": {
            "text/plain": [
              "[8, 11, 0, 0, 8]"
            ]
          },
          "metadata": {},
          "execution_count": 18
        }
      ]
    },
    {
      "cell_type": "code",
      "source": [
        "vocab = build_vocab_from_iterator(map(tokenizer, txt), specials=['<ukn>'], min_freq=2)\n",
        "vocab.set_default_index(vocab['<ukn>'])\n",
        "vocab.get_stoi()"
      ],
      "metadata": {
        "colab": {
          "base_uri": "https://localhost:8080/"
        },
        "id": "2wwbTLyHi8wM",
        "outputId": "9d38a9c8-20b2-4e89-c69f-00bcf93b7d5a"
      },
      "execution_count": null,
      "outputs": [
        {
          "output_type": "execute_result",
          "data": {
            "text/plain": [
              "{'are': 1, '<ukn>': 0}"
            ]
          },
          "metadata": {},
          "execution_count": 19
        }
      ]
    },
    {
      "cell_type": "markdown",
      "source": [
        "# --------------------------------------------------"
      ],
      "metadata": {
        "id": "u2lF2lzZv8DJ"
      }
    },
    {
      "cell_type": "code",
      "source": [
        "tokenizer = get_tokenizer('basic_english')\n",
        "vocab = build_vocab_from_iterator(map(tokenizer, train_iter), specials=['<unk>'])\n",
        "vocab.set_default_index(vocab['<unk>'])"
      ],
      "metadata": {
        "id": "CYiQFODtsf_A",
        "colab": {
          "base_uri": "https://localhost:8080/"
        },
        "outputId": "5ee0c1ae-2541-4133-e157-9a00131512c5"
      },
      "execution_count": null,
      "outputs": [
        {
          "output_type": "stream",
          "name": "stderr",
          "text": [
            "/usr/local/lib/python3.10/dist-packages/torch/utils/data/datapipes/iter/combining.py:333: UserWarning: Some child DataPipes are not exhausted when __iter__ is called. We are resetting the buffer and each child DataPipe will read from the start again.\n",
            "  warnings.warn(\"Some child DataPipes are not exhausted when __iter__ is called. We are resetting \"\n"
          ]
        }
      ]
    },
    {
      "cell_type": "code",
      "source": [
        "len(vocab)"
      ],
      "metadata": {
        "id": "7xnf2gxpi854",
        "colab": {
          "base_uri": "https://localhost:8080/"
        },
        "outputId": "463489d3-2e17-449b-fb81-3e5e85573a2a"
      },
      "execution_count": null,
      "outputs": [
        {
          "output_type": "execute_result",
          "data": {
            "text/plain": [
              "28782"
            ]
          },
          "metadata": {},
          "execution_count": 22
        }
      ]
    },
    {
      "cell_type": "code",
      "source": [
        "vocab['salam']"
      ],
      "metadata": {
        "id": "QTpz4lO4fm9C",
        "colab": {
          "base_uri": "https://localhost:8080/"
        },
        "outputId": "2dccead1-0975-498c-ea3e-53f142b2fa07"
      },
      "execution_count": null,
      "outputs": [
        {
          "output_type": "execute_result",
          "data": {
            "text/plain": [
              "22952"
            ]
          },
          "metadata": {},
          "execution_count": 23
        }
      ]
    },
    {
      "cell_type": "code",
      "source": [
        "#vocab.get_stoi()"
      ],
      "metadata": {
        "id": "NeHrcz-JuY6g"
      },
      "execution_count": null,
      "outputs": []
    },
    {
      "cell_type": "code",
      "source": [
        "torch.save(vocab, 'vocab.pt')"
      ],
      "metadata": {
        "id": "1dfNzv7huuNR"
      },
      "execution_count": null,
      "outputs": []
    },
    {
      "cell_type": "markdown",
      "source": [
        "## 🟠 EDA"
      ],
      "metadata": {
        "id": "j6M8yPlNwFgU"
      }
    },
    {
      "cell_type": "markdown",
      "source": [
        "### 🟡 Let's explore the WikiText2 dataset!"
      ],
      "metadata": {
        "id": "ohCZxrfJwR5Y"
      }
    },
    {
      "cell_type": "markdown",
      "source": [
        "### 🟡 Calculate basic statistics such as the number of documents, total words, average document length, etc."
      ],
      "metadata": {
        "id": "cFaw0ZcNwR87"
      }
    },
    {
      "cell_type": "code",
      "source": [
        "total_sentence_count = 0\n",
        "total_sentence_length = 0\n",
        "\n",
        "for line in train_iter:\n",
        "    sentences = line.split('.')\n",
        "\n",
        "    for sentence in sentences:\n",
        "        tokens = sentence.strip().split()\n",
        "        sentence_length = len(tokens)\n",
        "\n",
        "        if sentence_length > 0:\n",
        "            total_sentence_count += 1\n",
        "            total_sentence_length += sentence_length\n",
        "\n",
        "mean_sentence_length = total_sentence_length / total_sentence_count\n",
        "\n",
        "print(f'Mean sentence length in Wikitext-2: {mean_sentence_length:.2f}')"
      ],
      "metadata": {
        "colab": {
          "base_uri": "https://localhost:8080/"
        },
        "id": "LgXg96aAuuPw",
        "outputId": "9e55bd86-03ba-4771-c8a3-366ec43483d7"
      },
      "execution_count": null,
      "outputs": [
        {
          "output_type": "stream",
          "name": "stdout",
          "text": [
            "Mean sentence length in Wikitext-2: 21.69\n"
          ]
        }
      ]
    },
    {
      "cell_type": "markdown",
      "source": [
        "### 🟡 Analyze the most common and least common words in the dataset."
      ],
      "metadata": {
        "id": "MKsHpfX6wcmg"
      }
    },
    {
      "cell_type": "code",
      "source": [
        "freqs = Counter([1, 2, 2, 3, 2, 3])\n",
        "freqs"
      ],
      "metadata": {
        "colab": {
          "base_uri": "https://localhost:8080/"
        },
        "id": "uJQSByXbuuRv",
        "outputId": "f1a21c27-dbaa-45ba-a050-686e72ee7475"
      },
      "execution_count": null,
      "outputs": [
        {
          "output_type": "execute_result",
          "data": {
            "text/plain": [
              "Counter({1: 1, 2: 3, 3: 2})"
            ]
          },
          "metadata": {},
          "execution_count": 27
        }
      ]
    },
    {
      "cell_type": "code",
      "source": [
        "freqs = Counter()\n",
        "for tokens in map(tokenizer, train_iter):\n",
        "  freqs.update(tokens)"
      ],
      "metadata": {
        "id": "UIPEVijtuuTk"
      },
      "execution_count": null,
      "outputs": []
    },
    {
      "cell_type": "code",
      "source": [
        "freqs.most_common()"
      ],
      "metadata": {
        "colab": {
          "base_uri": "https://localhost:8080/"
        },
        "id": "UIkP8TVY0Ysv",
        "outputId": "f4138ac7-6165-4b6f-f823-2b41e49d97ae"
      },
      "execution_count": null,
      "outputs": [
        {
          "output_type": "execute_result",
          "data": {
            "text/plain": [
              "[('the', 130768),\n",
              " (',', 102615),\n",
              " ('.', 83397),\n",
              " ('of', 57030),\n",
              " ('<unk>', 54625),\n",
              " ('and', 50735),\n",
              " ('in', 45015),\n",
              " ('to', 39521),\n",
              " ('a', 36523),\n",
              " ('=', 29570),\n",
              " ('was', 21008),\n",
              " (\"'\", 18484),\n",
              " ('@-@', 16906),\n",
              " ('on', 15140),\n",
              " ('as', 15058),\n",
              " ('s', 14936),\n",
              " ('that', 14351),\n",
              " ('for', 13794),\n",
              " ('with', 13012),\n",
              " ('by', 12718),\n",
              " (')', 12004),\n",
              " ('(', 11992),\n",
              " ('@', 11786),\n",
              " ('is', 11691),\n",
              " ('it', 9273),\n",
              " ('from', 9229),\n",
              " ('at', 9070),\n",
              " ('his', 9019),\n",
              " ('he', 8706),\n",
              " ('were', 7334),\n",
              " ('an', 6250),\n",
              " ('had', 5707),\n",
              " ('which', 5546),\n",
              " ('be', 4859),\n",
              " ('are', 4714),\n",
              " ('this', 4560),\n",
              " ('their', 4290),\n",
              " ('first', 4242),\n",
              " ('but', 4233),\n",
              " ('not', 4006),\n",
              " ('–', 3934),\n",
              " ('one', 3910),\n",
              " ('they', 3894),\n",
              " ('its', 3877),\n",
              " ('also', 3842),\n",
              " ('after', 3749),\n",
              " ('her', 3670),\n",
              " ('or', 3655),\n",
              " ('two', 3565),\n",
              " ('have', 3470),\n",
              " ('has', 3325),\n",
              " ('been', 3263),\n",
              " ('who', 3029),\n",
              " ('she', 2884),\n",
              " ('new', 2767),\n",
              " ('other', 2729),\n",
              " ('during', 2690),\n",
              " ('when', 2655),\n",
              " ('time', 2607),\n",
              " ('all', 2557),\n",
              " ('into', 2443),\n",
              " ('more', 2402),\n",
              " ('would', 2332),\n",
              " ('1', 2284),\n",
              " ('i', 2248),\n",
              " ('over', 2137),\n",
              " ('while', 2127),\n",
              " ('game', 2077),\n",
              " ('only', 2061),\n",
              " ('most', 2027),\n",
              " ('2', 1988),\n",
              " ('three', 1976),\n",
              " ('later', 1928),\n",
              " ('about', 1922),\n",
              " ('up', 1918),\n",
              " ('may', 1877),\n",
              " ('between', 1871),\n",
              " ('him', 1848),\n",
              " ('song', 1828),\n",
              " ('there', 1801),\n",
              " ('some', 1771),\n",
              " ('than', 1765),\n",
              " ('out', 1760),\n",
              " ('no', 1702),\n",
              " ('season', 1692),\n",
              " ('year', 1668),\n",
              " ('made', 1642),\n",
              " ('city', 1609),\n",
              " ('3', 1601),\n",
              " ('such', 1584),\n",
              " ('before', 1557),\n",
              " ('where', 1524),\n",
              " ('used', 1508),\n",
              " ('series', 1498),\n",
              " ('them', 1488),\n",
              " ('second', 1465),\n",
              " ('world', 1462),\n",
              " ('being', 1454),\n",
              " ('years', 1451),\n",
              " ('both', 1448),\n",
              " ('many', 1447),\n",
              " ('000', 1447),\n",
              " ('these', 1445),\n",
              " ('film', 1405),\n",
              " ('however', 1397),\n",
              " ('album', 1383),\n",
              " ('south', 1373),\n",
              " ('war', 1370),\n",
              " ('through', 1364),\n",
              " ('5', 1361),\n",
              " ('north', 1357),\n",
              " ('then', 1329),\n",
              " ('can', 1320),\n",
              " ('part', 1319),\n",
              " ('early', 1299),\n",
              " ('several', 1287),\n",
              " ('4', 1279),\n",
              " ('number', 1278),\n",
              " ('state', 1274),\n",
              " ('including', 1273),\n",
              " ('against', 1272),\n",
              " ('well', 1262),\n",
              " ('/', 1261),\n",
              " ('known', 1259),\n",
              " ('became', 1255),\n",
              " ('—', 1240),\n",
              " ('m', 1239),\n",
              " ('four', 1236),\n",
              " ('united', 1216),\n",
              " ('under', 1198),\n",
              " ('although', 1194),\n",
              " ('century', 1178),\n",
              " ('day', 1165),\n",
              " ('following', 1152),\n",
              " ('music', 1134),\n",
              " ('began', 1102),\n",
              " ('because', 1090),\n",
              " ('work', 1083),\n",
              " ('so', 1083),\n",
              " ('like', 1075),\n",
              " ('end', 1071),\n",
              " ('called', 1065),\n",
              " ('episode', 1064),\n",
              " ('until', 1040),\n",
              " ('found', 1039),\n",
              " ('said', 1038),\n",
              " ('area', 1034),\n",
              " ('could', 1033),\n",
              " ('states', 1019),\n",
              " ('american', 1018),\n",
              " ('people', 1015),\n",
              " ('6', 1014),\n",
              " ('since', 995),\n",
              " ('british', 989),\n",
              " ('each', 984),\n",
              " ('released', 979),\n",
              " ('same', 979),\n",
              " ('team', 974),\n",
              " ('church', 968),\n",
              " ('around', 966),\n",
              " ('10', 966),\n",
              " ('long', 960),\n",
              " ('did', 958),\n",
              " ('along', 957),\n",
              " ('million', 940),\n",
              " ('five', 938),\n",
              " ('life', 938),\n",
              " ('national', 916),\n",
              " ('0', 914),\n",
              " ('back', 910),\n",
              " ('john', 909),\n",
              " ('high', 903),\n",
              " ('company', 900),\n",
              " ('t', 900),\n",
              " ('another', 894),\n",
              " ('best', 891),\n",
              " ('use', 888),\n",
              " ('%', 881),\n",
              " ('you', 877),\n",
              " ('if', 872),\n",
              " ('final', 871),\n",
              " ('september', 869),\n",
              " ('august', 865),\n",
              " ('river', 861),\n",
              " ('large', 856),\n",
              " ('what', 846),\n",
              " ('west', 843),\n",
              " ('8', 837),\n",
              " ('km', 836),\n",
              " ('off', 835),\n",
              " ('down', 831),\n",
              " ('7', 825),\n",
              " ('due', 819),\n",
              " ('games', 817),\n",
              " ('june', 810),\n",
              " ('line', 809),\n",
              " ('history', 808),\n",
              " ('will', 803),\n",
              " ('name', 799),\n",
              " ('now', 791),\n",
              " ('any', 786),\n",
              " ('storm', 786),\n",
              " ('home', 784),\n",
              " ('received', 783),\n",
              " ('9', 777),\n",
              " ('government', 774),\n",
              " ('described', 774),\n",
              " ('six', 771),\n",
              " ('within', 770),\n",
              " ('species', 770),\n",
              " ('much', 769),\n",
              " ('group', 764),\n",
              " ('family', 758),\n",
              " ('october', 757),\n",
              " ('played', 755),\n",
              " ('$', 753),\n",
              " ('east', 748),\n",
              " ('league', 747),\n",
              " ('general', 744),\n",
              " ('took', 744),\n",
              " ('set', 744),\n",
              " ('[', 738),\n",
              " (']', 738),\n",
              " ('major', 737),\n",
              " ('road', 737),\n",
              " ('july', 733),\n",
              " ('wrote', 732),\n",
              " ('single', 731),\n",
              " ('won', 731),\n",
              " ('late', 731),\n",
              " ('system', 729),\n",
              " ('video', 725),\n",
              " ('play', 725),\n",
              " ('times', 724),\n",
              " ('us', 724),\n",
              " ('according', 723),\n",
              " ('record', 718),\n",
              " ('third', 716),\n",
              " ('based', 713),\n",
              " ('april', 711),\n",
              " ('man', 707),\n",
              " ('included', 702),\n",
              " ('just', 700),\n",
              " ('march', 699),\n",
              " ('book', 697),\n",
              " ('those', 694),\n",
              " ('january', 693),\n",
              " ('show', 693),\n",
              " ('named', 691),\n",
              " ('very', 690),\n",
              " ('even', 690),\n",
              " ('england', 689),\n",
              " ('main', 687),\n",
              " ('white', 687),\n",
              " ('left', 686),\n",
              " ('york', 685),\n",
              " ('men', 684),\n",
              " ('small', 681),\n",
              " ('school', 681),\n",
              " ('though', 678),\n",
              " ('division', 672),\n",
              " ('club', 671),\n",
              " ('way', 669),\n",
              " ('old', 668),\n",
              " ('original', 667),\n",
              " ('near', 666),\n",
              " ('last', 665),\n",
              " ('12', 662),\n",
              " ('november', 661),\n",
              " ('water', 657),\n",
              " ('place', 654),\n",
              " ('death', 654),\n",
              " ('20', 653),\n",
              " ('15', 650),\n",
              " ('tropical', 650),\n",
              " ('december', 647),\n",
              " ('built', 646),\n",
              " ('own', 644),\n",
              " ('character', 641),\n",
              " ('we', 641),\n",
              " ('songs', 639),\n",
              " ('top', 633),\n",
              " ('de', 632),\n",
              " ('form', 631),\n",
              " ('player', 630),\n",
              " ('30', 630),\n",
              " ('do', 625),\n",
              " ('king', 625),\n",
              " ('black', 624),\n",
              " ('public', 623),\n",
              " ('german', 619),\n",
              " ('island', 618),\n",
              " ('next', 617),\n",
              " ('2009', 616),\n",
              " ('make', 613),\n",
              " ('still', 612),\n",
              " ('2008', 612),\n",
              " ('2010', 611),\n",
              " ('u', 600),\n",
              " ('role', 598),\n",
              " ('led', 596),\n",
              " ('again', 595),\n",
              " ('moved', 590),\n",
              " ('ii', 589),\n",
              " ('career', 589),\n",
              " ('university', 589),\n",
              " ('without', 587),\n",
              " ('love', 585),\n",
              " ('often', 584),\n",
              " ('among', 582),\n",
              " ('recorded', 581),\n",
              " ('further', 578),\n",
              " ('hurricane', 578),\n",
              " ('military', 576),\n",
              " ('period', 575),\n",
              " ('star', 575),\n",
              " ('local', 574),\n",
              " ('considered', 573),\n",
              " ('army', 570),\n",
              " ('production', 570),\n",
              " ('release', 569),\n",
              " ('side', 568),\n",
              " ('2007', 567),\n",
              " ('great', 565),\n",
              " ('house', 557),\n",
              " ('came', 554),\n",
              " ('published', 554),\n",
              " ('written', 552),\n",
              " ('100', 551),\n",
              " ('continued', 550),\n",
              " ('power', 549),\n",
              " ('town', 547),\n",
              " ('english', 546),\n",
              " ('story', 545),\n",
              " ('forces', 542),\n",
              " ('days', 542),\n",
              " ('run', 541),\n",
              " ('route', 540),\n",
              " ('held', 540),\n",
              " ('french', 539),\n",
              " ('support', 535),\n",
              " ('14', 534),\n",
              " ('16', 531),\n",
              " ('11', 529),\n",
              " ('force', 527),\n",
              " ('half', 527),\n",
              " ('take', 526),\n",
              " ('few', 526),\n",
              " ('international', 525),\n",
              " ('having', 524),\n",
              " ('25', 523),\n",
              " ('county', 523),\n",
              " ('throughout', 521),\n",
              " ('land', 521),\n",
              " ('2011', 519),\n",
              " ('point', 518),\n",
              " ('become', 516),\n",
              " ('18', 516),\n",
              " ('order', 515),\n",
              " ('children', 515),\n",
              " ('2006', 515),\n",
              " ('light', 513),\n",
              " ('version', 513),\n",
              " ('title', 511),\n",
              " ('former', 509),\n",
              " ('lost', 507),\n",
              " ('track', 507),\n",
              " ('different', 506),\n",
              " ('development', 505),\n",
              " ('&', 505),\n",
              " ('field', 504),\n",
              " ('ship', 503),\n",
              " ('similar', 502),\n",
              " ('despite', 499),\n",
              " ('live', 498),\n",
              " ('common', 497),\n",
              " ('members', 496),\n",
              " ('park', 494),\n",
              " ('february', 492),\n",
              " ('c', 492),\n",
              " ('13', 491),\n",
              " ('gave', 488),\n",
              " ('produced', 488),\n",
              " ('short', 487),\n",
              " ('southern', 487),\n",
              " ('!', 486),\n",
              " ('little', 485),\n",
              " ('dylan', 485),\n",
              " ('site', 482),\n",
              " ('once', 480),\n",
              " ('2012', 480),\n",
              " ('television', 480),\n",
              " ('writing', 480),\n",
              " ('given', 479),\n",
              " ('central', 478),\n",
              " ('control', 476),\n",
              " ('total', 476),\n",
              " ('country', 475),\n",
              " ('band', 475),\n",
              " ('service', 472),\n",
              " ('northern', 470),\n",
              " ('re', 469),\n",
              " ('include', 465),\n",
              " ('young', 464),\n",
              " ('position', 463),\n",
              " ('fire', 463),\n",
              " ('battalion', 460),\n",
              " ('making', 457),\n",
              " ('never', 457),\n",
              " ('away', 456),\n",
              " ('seven', 455),\n",
              " ('tour', 455),\n",
              " ('lead', 454),\n",
              " ('air', 454),\n",
              " ('age', 454),\n",
              " ('2013', 452),\n",
              " ('how', 451),\n",
              " ('reported', 450),\n",
              " ('open', 450),\n",
              " ('seen', 450),\n",
              " ('battle', 449),\n",
              " ('highway', 449),\n",
              " ('western', 448),\n",
              " ('good', 448),\n",
              " ('eastern', 448),\n",
              " ('stated', 446),\n",
              " ('attack', 445),\n",
              " ('red', 445),\n",
              " ('h', 444),\n",
              " ('match', 444),\n",
              " ('god', 444),\n",
              " ('st', 443),\n",
              " ('across', 443),\n",
              " ('body', 442),\n",
              " ('instead', 442),\n",
              " ('returned', 441),\n",
              " ('ships', 441),\n",
              " ('established', 440),\n",
              " ('using', 438),\n",
              " ('population', 435),\n",
              " ('ft', 435),\n",
              " ('modern', 434),\n",
              " ('construction', 434),\n",
              " ('week', 434),\n",
              " ('america', 434),\n",
              " ('noted', 432),\n",
              " ('my', 431),\n",
              " ('less', 431),\n",
              " ('royal', 431),\n",
              " ('head', 430),\n",
              " ('reached', 430),\n",
              " ('developed', 429),\n",
              " ('building', 429),\n",
              " ('eight', 429),\n",
              " ('rock', 428),\n",
              " ('players', 427),\n",
              " ('ireland', 427),\n",
              " ('brigade', 426),\n",
              " ('b', 425),\n",
              " ('president', 424),\n",
              " ('result', 423),\n",
              " ('thought', 422),\n",
              " ('performance', 420),\n",
              " ('right', 420),\n",
              " ('miles', 418),\n",
              " ('london', 418),\n",
              " ('himself', 417),\n",
              " ('father', 416),\n",
              " ('per', 415),\n",
              " ('important', 414),\n",
              " ('style', 413),\n",
              " ('performed', 412),\n",
              " ('felt', 411),\n",
              " ('various', 410),\n",
              " ('australia', 410),\n",
              " ('full', 409),\n",
              " ('17', 409),\n",
              " ('feet', 408),\n",
              " ('areas', 408),\n",
              " ('previous', 407),\n",
              " ('events', 406),\n",
              " ('win', 405),\n",
              " ('low', 404),\n",
              " ('died', 401),\n",
              " ('kingdom', 401),\n",
              " ('guitar', 400),\n",
              " ('football', 399),\n",
              " ('others', 398),\n",
              " ('originally', 397),\n",
              " ('project', 397),\n",
              " ('too', 397),\n",
              " ('art', 397),\n",
              " ('mm', 397),\n",
              " ('went', 397),\n",
              " ('human', 396),\n",
              " ('upon', 395),\n",
              " ('23', 395),\n",
              " ('level', 395),\n",
              " ('works', 394),\n",
              " ('range', 394),\n",
              " ('started', 391),\n",
              " ('formed', 391),\n",
              " ('characters', 390),\n",
              " ('james', 390),\n",
              " ('political', 390),\n",
              " ('women', 388),\n",
              " ('should', 387),\n",
              " ('cup', 386),\n",
              " ('port', 384),\n",
              " ('caused', 383),\n",
              " ('50', 383),\n",
              " ('eventually', 382),\n",
              " ('located', 382),\n",
              " ('28', 382),\n",
              " ('21', 382),\n",
              " ('19', 380),\n",
              " ('24', 378),\n",
              " ('stars', 378),\n",
              " ('critics', 377),\n",
              " ('sent', 377),\n",
              " ('ground', 377),\n",
              " ('created', 376),\n",
              " ('able', 376),\n",
              " ('me', 374),\n",
              " ('2004', 374),\n",
              " ('class', 373),\n",
              " ('2005', 373),\n",
              " ('d', 372),\n",
              " ('chart', 371),\n",
              " ('night', 371),\n",
              " ('born', 369),\n",
              " ('region', 369),\n",
              " ('street', 367),\n",
              " ('together', 366),\n",
              " ('design', 366),\n",
              " ('center', 366),\n",
              " ('court', 366),\n",
              " ('director', 365),\n",
              " ('present', 364),\n",
              " ('popular', 364),\n",
              " ('strong', 364),\n",
              " ('’', 363),\n",
              " ('every', 363),\n",
              " ('award', 363),\n",
              " ('return', 361),\n",
              " ('son', 361),\n",
              " ('remained', 360),\n",
              " ('hero', 360),\n",
              " ('see', 359),\n",
              " ('novel', 358),\n",
              " ('completed', 358),\n",
              " ('guns', 358),\n",
              " ('scored', 357),\n",
              " ('announced', 355),\n",
              " ('australian', 355),\n",
              " ('grand', 354),\n",
              " ('almost', 353),\n",
              " ('fourth', 353),\n",
              " ('22', 353),\n",
              " ('behind', 350),\n",
              " ('least', 350),\n",
              " ('damage', 350),\n",
              " ('26', 349),\n",
              " ('brown', 348),\n",
              " ('ten', 348),\n",
              " ('party', 348),\n",
              " ('heavy', 347),\n",
              " ('added', 347),\n",
              " ('months', 345),\n",
              " ('followed', 345),\n",
              " ('wife', 344),\n",
              " ('appeared', 344),\n",
              " ('killed', 343),\n",
              " ('playing', 342),\n",
              " ('does', 342),\n",
              " ('addition', 342),\n",
              " ('success', 342),\n",
              " ('list', 340),\n",
              " ('awards', 340),\n",
              " ('features', 338),\n",
              " ('aircraft', 335),\n",
              " ('coast', 334),\n",
              " ('sea', 334),\n",
              " ('2003', 334),\n",
              " ('taken', 333),\n",
              " ('david', 331),\n",
              " ('2015', 331),\n",
              " ('leading', 330),\n",
              " ('championship', 329),\n",
              " ('action', 328),\n",
              " ('france', 328),\n",
              " ('either', 327),\n",
              " ('served', 327),\n",
              " ('front', 327),\n",
              " ('europe', 327),\n",
              " ('recording', 327),\n",
              " ('towards', 326),\n",
              " ('operations', 325),\n",
              " ('campaign', 325),\n",
              " ('gold', 324),\n",
              " ('mother', 323),\n",
              " ('put', 323),\n",
              " ('elements', 322),\n",
              " ('decided', 322),\n",
              " ('records', 320),\n",
              " ('close', 320),\n",
              " ('generally', 319),\n",
              " ('magazine', 319),\n",
              " ('believed', 319),\n",
              " ('fleet', 319),\n",
              " ('female', 316),\n",
              " ('post', 316),\n",
              " ('ever', 316),\n",
              " ('carey', 316),\n",
              " ('sold', 315),\n",
              " ('soon', 315),\n",
              " ('poem', 315),\n",
              " ('points', 313),\n",
              " ('infantry', 313),\n",
              " ('significant', 313),\n",
              " ('example', 313),\n",
              " ('move', 312),\n",
              " ('fort', 312),\n",
              " ('goal', 312),\n",
              " ('weeks', 312),\n",
              " ('rather', 311),\n",
              " ('study', 311),\n",
              " ('european', 310),\n",
              " ('outside', 309),\n",
              " ('federer', 309),\n",
              " ('robert', 308),\n",
              " ('opened', 308),\n",
              " ('o', 308),\n",
              " ('directed', 307),\n",
              " ('case', 307),\n",
              " ('help', 306),\n",
              " ('non', 306),\n",
              " ('brought', 306),\n",
              " ('law', 306),\n",
              " ('finished', 305),\n",
              " ('27', 304),\n",
              " ('wales', 304),\n",
              " ('william', 304),\n",
              " ('earlier', 304),\n",
              " ('go', 303),\n",
              " ('featured', 303),\n",
              " ('victory', 302),\n",
              " ('get', 302),\n",
              " ('successful', 300),\n",
              " ('manager', 300),\n",
              " ('act', 299),\n",
              " ('gun', 299),\n",
              " ('stage', 298),\n",
              " ('member', 297),\n",
              " ('provided', 297),\n",
              " ('association', 297),\n",
              " ('opening', 296),\n",
              " ('working', 296),\n",
              " ('village', 296),\n",
              " ('start', 296),\n",
              " ('mid', 296),\n",
              " ('mi', 296),\n",
              " ('wanted', 295),\n",
              " ('council', 295),\n",
              " ('appearance', 294),\n",
              " ('particularly', 293),\n",
              " ('roman', 293),\n",
              " ('jordan', 293),\n",
              " ('troops', 292),\n",
              " ('2014', 291),\n",
              " ('initially', 291),\n",
              " ('depression', 291),\n",
              " ('atlantic', 291),\n",
              " ('40', 291),\n",
              " ('tech', 291),\n",
              " ('evidence', 290),\n",
              " ('29', 290),\n",
              " ('yard', 290),\n",
              " ('office', 289),\n",
              " ('largest', 289),\n",
              " ('find', 289),\n",
              " ('far', 289),\n",
              " ('review', 288),\n",
              " ('blue', 288),\n",
              " ('george', 288),\n",
              " ('dam', 288),\n",
              " ('possible', 287),\n",
              " ('attempt', 287),\n",
              " ('saw', 287),\n",
              " ('special', 286),\n",
              " ('type', 286),\n",
              " ('summer', 285),\n",
              " ('month', 285),\n",
              " ('above', 284),\n",
              " ('union', 284),\n",
              " ('yards', 284),\n",
              " ('19th', 284),\n",
              " ('rest', 283),\n",
              " ('e', 283),\n",
              " ('florida', 283),\n",
              " ('allowed', 281),\n",
              " ('event', 281),\n",
              " ('winds', 281),\n",
              " ('race', 281),\n",
              " ('critical', 280),\n",
              " ('saying', 280),\n",
              " ('creek', 279),\n",
              " ('cross', 279),\n",
              " ('hours', 278),\n",
              " ('whom', 278),\n",
              " ('nine', 277),\n",
              " ('worked', 276),\n",
              " ('2001', 276),\n",
              " ('police', 276),\n",
              " ('plan', 276),\n",
              " ('missouri', 276),\n",
              " ('designed', 275),\n",
              " ('reception', 275),\n",
              " ('society', 275),\n",
              " ('community', 275),\n",
              " ('500', 274),\n",
              " ('previously', 274),\n",
              " ('free', 273),\n",
              " ('forced', 272),\n",
              " ('middle', 272),\n",
              " ('process', 272),\n",
              " ('real', 271),\n",
              " ('remains', 271),\n",
              " ('operation', 271),\n",
              " ('era', 271),\n",
              " ('radio', 271),\n",
              " ('200', 270),\n",
              " ('praised', 269),\n",
              " ('official', 269),\n",
              " ('research', 269),\n",
              " ('increased', 269),\n",
              " ('hall', 268),\n",
              " ('lower', 267),\n",
              " ('station', 267),\n",
              " ('parliament', 267),\n",
              " ('come', 266),\n",
              " ('michael', 266),\n",
              " ('relationship', 266),\n",
              " ('units', 265),\n",
              " ('command', 265),\n",
              " ('commander', 265),\n",
              " ('regiment', 265),\n",
              " ('studio', 265),\n",
              " ('hill', 265),\n",
              " ('£', 264),\n",
              " ('taking', 264),\n",
              " ('base', 264),\n",
              " ('parts', 263),\n",
              " ('writer', 263),\n",
              " ('replaced', 263),\n",
              " ('media', 262),\n",
              " ('navy', 262),\n",
              " ('ball', 262),\n",
              " ('industry', 262),\n",
              " ('social', 261),\n",
              " ('r', 260),\n",
              " ('food', 260),\n",
              " ('highest', 259),\n",
              " ('college', 259),\n",
              " ('co', 259),\n",
              " ('bay', 259),\n",
              " ('reviews', 259),\n",
              " ('beginning', 258),\n",
              " ('claimed', 258),\n",
              " ('°', 258),\n",
              " ('don', 258),\n",
              " ('museum', 257),\n",
              " ('estimated', 257),\n",
              " ('mph', 257),\n",
              " ('canada', 257),\n",
              " ('section', 257),\n",
              " ('goals', 256),\n",
              " ('stone', 256),\n",
              " ('japanese', 255),\n",
              " ('l', 255),\n",
              " ('religious', 255),\n",
              " ('commercial', 255),\n",
              " ('average', 255),\n",
              " ('joined', 255),\n",
              " ('stories', 254),\n",
              " ('involved', 254),\n",
              " ('placed', 254),\n",
              " ('training', 254),\n",
              " ('oldham', 254),\n",
              " ('met', 253),\n",
              " ('signed', 253),\n",
              " ('shot', 253),\n",
              " ('suggested', 253),\n",
              " ('introduced', 253),\n",
              " ('lines', 252),\n",
              " ('sometimes', 252),\n",
              " ('face', 251),\n",
              " ('31', 251),\n",
              " ('today', 251),\n",
              " ('background', 251),\n",
              " ('paul', 251),\n",
              " ('business', 251),\n",
              " ('olivier', 251),\n",
              " ('scene', 250),\n",
              " ('going', 250),\n",
              " ('complete', 250),\n",
              " ('itself', 250),\n",
              " ('structure', 249),\n",
              " ('henry', 249),\n",
              " ('mexico', 249),\n",
              " ('additional', 248),\n",
              " ('available', 248),\n",
              " ('thus', 248),\n",
              " ('give', 248),\n",
              " ('cast', 247),\n",
              " ('loss', 247),\n",
              " ('language', 247),\n",
              " ('date', 247),\n",
              " ('horse', 247),\n",
              " ('whose', 246),\n",
              " ('nearly', 246),\n",
              " ('term', 246),\n",
              " ('sound', 246),\n",
              " ('india', 246),\n",
              " ('thomas', 245),\n",
              " ('fifth', 245),\n",
              " ('past', 245),\n",
              " ('approximately', 244),\n",
              " ('indian', 244),\n",
              " ('must', 244),\n",
              " ('program', 244),\n",
              " ('irish', 244),\n",
              " ('entire', 243),\n",
              " ('capital', 243),\n",
              " ('already', 243),\n",
              " ('friends', 243),\n",
              " ('appointed', 243),\n",
              " ('told', 242),\n",
              " ('damaged', 242),\n",
              " ('native', 242),\n",
              " ('shows', 242),\n",
              " ('prior', 242),\n",
              " ('britain', 242),\n",
              " ('names', 241),\n",
              " ('issue', 241),\n",
              " ('probably', 241),\n",
              " ('turned', 241),\n",
              " ('mark', 241),\n",
              " ('forest', 241),\n",
              " ('sun', 240),\n",
              " ('male', 240),\n",
              " ('winning', 239),\n",
              " ('g', 238),\n",
              " ('-', 238),\n",
              " ('change', 238),\n",
              " ('students', 238),\n",
              " ('our', 238),\n",
              " ('length', 237),\n",
              " ('size', 237),\n",
              " ('passed', 237),\n",
              " ('earth', 237),\n",
              " ('?', 237),\n",
              " ('civil', 236),\n",
              " ('child', 236),\n",
              " ('especially', 236),\n",
              " ('woman', 235),\n",
              " ('christian', 235),\n",
              " ('enough', 235),\n",
              " ('notes', 235),\n",
              " ('overall', 234),\n",
              " ('chinese', 234),\n",
              " ('forward', 234),\n",
              " ('failed', 234),\n",
              " ('running', 234),\n",
              " ('mixed', 234),\n",
              " ('captain', 233),\n",
              " ('better', 233),\n",
              " ('ny', 233),\n",
              " ('limited', 232),\n",
              " ('2002', 232),\n",
              " ('iii', 231),\n",
              " ('minor', 231),\n",
              " ('network', 231),\n",
              " ('future', 231),\n",
              " ('regular', 230),\n",
              " ('pacific', 230),\n",
              " ('ordered', 230),\n",
              " ('spent', 230),\n",
              " ('changes', 230),\n",
              " ('moving', 230),\n",
              " ('might', 230),\n",
              " ('arrived', 230),\n",
              " ('includes', 230),\n",
              " ('wheeler', 230),\n",
              " ('remaining', 229),\n",
              " ('larger', 229),\n",
              " ('education', 229),\n",
              " ('usually', 229),\n",
              " ('canadian', 229),\n",
              " ('cathedral', 229),\n",
              " ('hand', 228),\n",
              " ('department', 228),\n",
              " ('hit', 228),\n",
              " ('birds', 228),\n",
              " ('required', 227),\n",
              " ('uk', 227),\n",
              " ('san', 227),\n",
              " ('lake', 227),\n",
              " ('latter', 226),\n",
              " ('decision', 226),\n",
              " ('plot', 225),\n",
              " ('response', 225),\n",
              " ('africa', 225),\n",
              " ('space', 224),\n",
              " ('musical', 224),\n",
              " ('round', 224),\n",
              " ('wide', 224),\n",
              " ('voice', 224),\n",
              " ('2000', 224),\n",
              " ('debut', 223),\n",
              " ('crew', 223),\n",
              " ('appear', 223),\n",
              " ('related', 222),\n",
              " ('mounted', 222),\n",
              " ('groups', 222),\n",
              " ('territory', 221),\n",
              " ('view', 221),\n",
              " ('centre', 221),\n",
              " ('rachel', 221),\n",
              " ('jin', 221),\n",
              " ('positive', 220),\n",
              " ('feature', 220),\n",
              " ('science', 220),\n",
              " ('nature', 220),\n",
              " ('billboard', 220),\n",
              " ('films', 220),\n",
              " ('ended', 220),\n",
              " ('saint', 220),\n",
              " ('00', 220),\n",
              " ('finally', 219),\n",
              " ('score', 219),\n",
              " ('squadron', 219),\n",
              " ('supported', 219),\n",
              " ('flight', 219),\n",
              " ('culture', 219),\n",
              " ('money', 218),\n",
              " ('becoming', 218),\n",
              " ('pressure', 218),\n",
              " ('always', 217),\n",
              " ('smaller', 217),\n",
              " ('books', 217),\n",
              " ('provide', 217),\n",
              " ('charles', 217),\n",
              " ('private', 216),\n",
              " ('shown', 216),\n",
              " ('1995', 216),\n",
              " ('anti', 216),\n",
              " ('discovered', 216),\n",
              " ('shortly', 215),\n",
              " ('particular', 215),\n",
              " ('board', 215),\n",
              " ('minutes', 215),\n",
              " ('person', 214),\n",
              " ('experience', 214),\n",
              " ('nations', 214),\n",
              " ('peter', 214),\n",
              " ('trade', 214),\n",
              " ('defeated', 214),\n",
              " ('difficult', 214),\n",
              " ('mass', 214),\n",
              " ('temple', 214),\n",
              " ('staff', 213),\n",
              " ('big', 213),\n",
              " ('surface', 213),\n",
              " ('subsequently', 213),\n",
              " ('japan', 212),\n",
              " ('upper', 212),\n",
              " ('press', 212),\n",
              " ('lack', 212),\n",
              " ('living', 212),\n",
              " ('effects', 212),\n",
              " ('zealand', 212),\n",
              " ('word', 211),\n",
              " ('professional', 211),\n",
              " ('material', 210),\n",
              " ('fact', 210),\n",
              " ('greater', 210),\n",
              " ('tv', 210),\n",
              " ('problems', 209),\n",
              " ('self', 209),\n",
              " ('room', 209),\n",
              " ('teams', 209),\n",
              " ('60', 209),\n",
              " ('numbers', 208),\n",
              " ('idea', 208),\n",
              " ('intended', 208),\n",
              " ('news', 208),\n",
              " ('collection', 208),\n",
              " ('largely', 208),\n",
              " ('bridge', 208),\n",
              " ...]"
            ]
          },
          "metadata": {},
          "execution_count": 29
        }
      ]
    },
    {
      "cell_type": "code",
      "source": [
        "freqs.most_common()[-6000:]"
      ],
      "metadata": {
        "colab": {
          "base_uri": "https://localhost:8080/"
        },
        "id": "fe49mHPxwh8X",
        "outputId": "81ed8dfe-8cd4-4bec-d5c1-b645d3bece4e"
      },
      "execution_count": null,
      "outputs": [
        {
          "output_type": "execute_result",
          "data": {
            "text/plain": [
              "[('refreshing', 4),\n",
              " ('aback', 4),\n",
              " ('uproar', 4),\n",
              " ('novi', 4),\n",
              " ('mshd', 4),\n",
              " ('881', 4),\n",
              " ('ibrahima', 4),\n",
              " ('1726', 4),\n",
              " ('mandé', 4),\n",
              " ('yalunka', 4),\n",
              " ('bundu', 4),\n",
              " ('almami', 4),\n",
              " ('donnel', 4),\n",
              " ('cctv', 4),\n",
              " ('fiancée', 4),\n",
              " ('fibres', 4),\n",
              " ('calmly', 4),\n",
              " ('gaviria', 4),\n",
              " ('andes', 4),\n",
              " ('stylized', 4),\n",
              " ('40th', 4),\n",
              " ('zurich', 4),\n",
              " ('rafa', 4),\n",
              " ('jonas', 4),\n",
              " ('mcenroe', 4),\n",
              " ('tiebreaker', 4),\n",
              " ('borg', 4),\n",
              " ('racquets', 4),\n",
              " ('battled', 4),\n",
              " ('tiebreak', 4),\n",
              " ('surpass', 4),\n",
              " ('prolonging', 4),\n",
              " ('baseline', 4),\n",
              " ('forehand', 4),\n",
              " ('dogfights', 4),\n",
              " ('simulators', 4),\n",
              " ('graphical', 4),\n",
              " ('hantzopoulos', 4),\n",
              " ('gauges', 4),\n",
              " ('itcz', 4),\n",
              " ('accelerating', 4),\n",
              " ('mudskippers', 4),\n",
              " ('tasting', 4),\n",
              " ('bbdo', 4),\n",
              " ('squirrels', 4),\n",
              " ('mustang', 4),\n",
              " ('overlapped', 4),\n",
              " ('stella', 4),\n",
              " ('mulhall', 4),\n",
              " ('windass', 4),\n",
              " ('oblivion', 4),\n",
              " ('californicus', 4),\n",
              " ('diets', 4),\n",
              " ('rabbits', 4),\n",
              " ('mites', 4),\n",
              " ('hares', 4),\n",
              " ('sonora', 4),\n",
              " ('wheatgrass', 4),\n",
              " ('coyote', 4),\n",
              " ('lupus', 4),\n",
              " ('tularemia', 4),\n",
              " ('carcasses', 4),\n",
              " ('ismailia', 4),\n",
              " ('kress', 4),\n",
              " ('railhead', 4),\n",
              " ('ferdan', 4),\n",
              " ('125th', 4),\n",
              " ('zealander', 4),\n",
              " ('redoubt', 4),\n",
              " ('hamisah', 4),\n",
              " ('greedy', 4),\n",
              " ('rogan', 4),\n",
              " ('willingly', 4),\n",
              " ('alisandros', 4),\n",
              " ('lana', 4),\n",
              " ('acknowledgment', 4),\n",
              " ('boletinellus', 4),\n",
              " ('gyroporus', 4),\n",
              " ('phlebopus', 4),\n",
              " ('calostoma', 4),\n",
              " ('diplocystis', 4),\n",
              " ('isotopic', 4),\n",
              " ('competitively', 4),\n",
              " ('abeam', 4),\n",
              " ('blitt', 4),\n",
              " ('meg', 4),\n",
              " ('agaricales', 4),\n",
              " ('donoghue', 4),\n",
              " ('penannular', 4),\n",
              " ('brooch', 4),\n",
              " ('whalebone', 4),\n",
              " ('miniatures', 4),\n",
              " ('quatrain', 4),\n",
              " ('ingenuity', 4),\n",
              " ('goodall', 4),\n",
              " ('carmen', 4),\n",
              " ('pagliacci', 4),\n",
              " ('soloists', 4),\n",
              " ('figaro', 4),\n",
              " ('instituted', 4),\n",
              " ('springboks', 4),\n",
              " ('gibbs', 4),\n",
              " ('spirituals', 4),\n",
              " ('gestures', 4),\n",
              " ('deficit', 4),\n",
              " ('seddon', 4),\n",
              " ('1619', 4),\n",
              " ('mikołaj', 4),\n",
              " ('widacki', 4),\n",
              " ('1641', 4),\n",
              " ('regimentarz', 4),\n",
              " ('conclusive', 4),\n",
              " ('wansel', 4),\n",
              " ('popcrush', 4),\n",
              " ('kellman', 4),\n",
              " ('060', 4),\n",
              " ('usable', 4),\n",
              " ('autobiographies', 4),\n",
              " ('bantam', 4),\n",
              " ('fundamentalists', 4),\n",
              " ('unregulated', 4),\n",
              " ('antidote', 4),\n",
              " ('reflective', 4),\n",
              " ('amphorae', 4),\n",
              " ('yangjiang', 4),\n",
              " ('guangxi', 4),\n",
              " ('¥', 4),\n",
              " ('cny', 4),\n",
              " ('chung', 4),\n",
              " ('lifeguard', 4),\n",
              " ('cphc', 4),\n",
              " ('stocked', 4),\n",
              " ('danko', 4),\n",
              " ('reels', 4),\n",
              " ('pacifier', 4),\n",
              " ('cartwright', 4),\n",
              " ('hallmark', 4),\n",
              " ('itchy', 4),\n",
              " ('scratchy', 4),\n",
              " ('rescind', 4),\n",
              " ('rita', 4),\n",
              " ('toby', 4),\n",
              " ('drinks', 4),\n",
              " ('soundstage', 4),\n",
              " ('fantasia', 4),\n",
              " ('infants', 4),\n",
              " ('assurance', 4),\n",
              " ('furlongs', 4),\n",
              " ('filly', 4),\n",
              " ('northcentral', 4),\n",
              " ('montoursville', 4),\n",
              " ('sludge', 4),\n",
              " ('tanning', 4),\n",
              " ('lumbering', 4),\n",
              " ('705', 4),\n",
              " ('bede', 4),\n",
              " ('hexafluoride', 4),\n",
              " ('oxidizing', 4),\n",
              " ('difluoride', 4),\n",
              " ('asymptotic', 4),\n",
              " ('129i', 4),\n",
              " ('133xe', 4),\n",
              " ('polarization', 4),\n",
              " ('emanating', 4),\n",
              " ('meteorites', 4),\n",
              " ('perxenate', 4),\n",
              " ('computed', 4),\n",
              " ('argentines', 4),\n",
              " ('kirchner', 4),\n",
              " ('rivaled', 4),\n",
              " ('antónio', 4),\n",
              " ('inequality', 4),\n",
              " ('lashes', 4),\n",
              " ('cabildo', 4),\n",
              " ('¡', 4),\n",
              " ('agitation', 4),\n",
              " ('oversized', 4),\n",
              " ('fascism', 4),\n",
              " ('maleev', 4),\n",
              " ('ackerson', 4),\n",
              " ('bulletin', 4),\n",
              " ('helgenberger', 4),\n",
              " ('seductress', 4),\n",
              " ('procedural', 4),\n",
              " ('arecibo', 4),\n",
              " ('lennox', 4),\n",
              " ('mutant', 4),\n",
              " ('weed', 4),\n",
              " ('aspirations', 4),\n",
              " ('visualize', 4),\n",
              " ('1225', 4),\n",
              " ('1228', 4),\n",
              " ('1231', 4),\n",
              " ('minstrel', 4),\n",
              " ('reims', 4),\n",
              " ('1205', 4),\n",
              " ('ayyubid', 4),\n",
              " ('pillaged', 4),\n",
              " ('1214', 4),\n",
              " ('negotiation', 4),\n",
              " ('whitewater', 4),\n",
              " ('ecoregion', 4),\n",
              " ('snowmelt', 4),\n",
              " ('cottonwood', 4),\n",
              " ('shrubby', 4),\n",
              " ('grizzly', 4),\n",
              " ('ranch', 4),\n",
              " ('horseshoe', 4),\n",
              " ('prakash', 4),\n",
              " ('catapulted', 4),\n",
              " ('takia', 4),\n",
              " ('pretended', 4),\n",
              " ('mumaith', 4),\n",
              " ('obscene', 4),\n",
              " ('nizam', 4),\n",
              " ('consolidating', 4),\n",
              " ('ferraris', 4),\n",
              " ('chassis', 4),\n",
              " ('jenson', 4),\n",
              " ('glock', 4),\n",
              " ('piquet', 4),\n",
              " ('sutil', 4),\n",
              " ('frontrunners', 4),\n",
              " ('impeded', 4),\n",
              " ('bronzes', 4),\n",
              " ('mules', 4),\n",
              " ('nots', 4),\n",
              " ('rudder', 4),\n",
              " ('unproven', 4),\n",
              " ('seeping', 4),\n",
              " ('megawatts', 4),\n",
              " ('twh', 4),\n",
              " ('denard', 4),\n",
              " ('comoros', 4),\n",
              " ('enlisting', 4),\n",
              " ('cadres', 4),\n",
              " ('asthma', 4),\n",
              " ('ps3', 4),\n",
              " ('stingaree', 4),\n",
              " ('cracksman', 4),\n",
              " ('satisfaction', 4),\n",
              " ('virtuosity', 4),\n",
              " ('eton', 4),\n",
              " ('adamant', 4),\n",
              " ('tryon', 4),\n",
              " ('distributors', 4),\n",
              " ('aloof', 4),\n",
              " ('sandals', 4),\n",
              " ('mort', 4),\n",
              " ('nijmegen', 4),\n",
              " ('jv', 4),\n",
              " ('étienne', 4),\n",
              " ('absolutism', 4),\n",
              " ('mirroring', 4),\n",
              " ('cropped', 4),\n",
              " ('ictus', 4),\n",
              " ('unpredictability', 4),\n",
              " ('spisevognselskap', 4),\n",
              " ('dovre', 4),\n",
              " ('landlady', 4),\n",
              " ('grinder', 4),\n",
              " ('hinds', 4),\n",
              " ('servilia', 4),\n",
              " ('octavia', 4),\n",
              " ('stoic', 4),\n",
              " ('tumultuous', 4),\n",
              " ('lurid', 4),\n",
              " ('nobodies', 4),\n",
              " ('tetsuya', 4),\n",
              " ('modify', 4),\n",
              " ('ansem', 4),\n",
              " ('xemnas', 4),\n",
              " ('amano', 4),\n",
              " ('zx', 4),\n",
              " ('padres', 4),\n",
              " ('unicameral', 4),\n",
              " ('tiered', 4),\n",
              " ('sud', 4),\n",
              " ('josipović', 4),\n",
              " ('kenyan', 4),\n",
              " ('commune', 4),\n",
              " ('scanlan', 4),\n",
              " ('testify', 4),\n",
              " ('batson', 4),\n",
              " ('fraternal', 4),\n",
              " ('undrafted', 4),\n",
              " ('devils', 4),\n",
              " ('crutches', 4),\n",
              " ('vie', 4),\n",
              " ('scoutz', 4),\n",
              " ('syrup', 4),\n",
              " ('milhouse', 4),\n",
              " ('meanders', 4),\n",
              " ('irv', 4),\n",
              " ('cisski', 4),\n",
              " ('wuthering', 4),\n",
              " ('auditorium', 4),\n",
              " ('bfi', 4),\n",
              " ('kean', 4),\n",
              " ('lejeune', 4),\n",
              " ('korda', 4),\n",
              " ('eclipsed', 4),\n",
              " ('searing', 4),\n",
              " ('bragg', 4),\n",
              " ('darlington', 4),\n",
              " ('chandos', 4),\n",
              " ('1706', 4),\n",
              " ('assertiveness', 4),\n",
              " ('entice', 4),\n",
              " ('rudders', 4),\n",
              " ('volts', 4),\n",
              " ('467', 4),\n",
              " ('jammed', 4),\n",
              " ('tripod', 4),\n",
              " ('crippled', 4),\n",
              " ('casablanca', 4),\n",
              " ('puncture', 4),\n",
              " ('gy', 4),\n",
              " ('gastrointestinal', 4),\n",
              " ('lund', 4),\n",
              " ('fluids', 4),\n",
              " ('swamped', 4),\n",
              " ('fremantle', 4),\n",
              " ('entrained', 4),\n",
              " ('lemnos', 4),\n",
              " ('webisode', 4),\n",
              " ('kern', 4),\n",
              " ('blythe', 4),\n",
              " ('hauser', 4),\n",
              " ('cornell', 4),\n",
              " ('infective', 4),\n",
              " ('godsmack', 4),\n",
              " ('turnovers', 4),\n",
              " ('shrank', 4),\n",
              " ('vishnuvardhana', 4),\n",
              " ('dvaita', 4),\n",
              " ('ashtaka', 4),\n",
              " ('janna', 4),\n",
              " ('1330', 4),\n",
              " ('ramanujacharya', 4),\n",
              " ('bards', 4),\n",
              " ('padmarasa', 4),\n",
              " ('1189', 4),\n",
              " ('charitra', 4),\n",
              " ('infatuation', 4),\n",
              " ('resurfacing', 4),\n",
              " ('asceticism', 4),\n",
              " ('adi', 4),\n",
              " ('nirnaya', 4),\n",
              " ('colima', 4),\n",
              " ('cotrona', 4),\n",
              " ('palicki', 4),\n",
              " ('hopping', 4),\n",
              " ('redone', 4),\n",
              " ('ungulates', 4),\n",
              " ('onça', 4),\n",
              " ('cheetah', 4),\n",
              " ('couguar', 4),\n",
              " ('sprints', 4),\n",
              " ('seals', 4),\n",
              " ('shrinks', 4),\n",
              " ('kittens', 4),\n",
              " ('winnebago', 4),\n",
              " ('paradoxical', 4),\n",
              " ('przewalski', 4),\n",
              " ('krayot', 4),\n",
              " ('samak', 4),\n",
              " ('sycaminon', 4),\n",
              " ('kishon', 4),\n",
              " ('retook', 4),\n",
              " ('maris', 4),\n",
              " ('tiberias', 4),\n",
              " ('interred', 4),\n",
              " ('redeployed', 4),\n",
              " ('ashdod', 4),\n",
              " ('merkaz', 4),\n",
              " ('9n', 4),\n",
              " ('cerezo', 4),\n",
              " ('expiration', 4),\n",
              " ('tattoo', 4),\n",
              " ('gators', 4),\n",
              " ('moba', 4),\n",
              " ('collects', 4),\n",
              " ('radiant', 4),\n",
              " ('feak', 4),\n",
              " ('gamescom', 4),\n",
              " ('contributor', 4),\n",
              " ('gametrailers', 4),\n",
              " ('swarm', 4),\n",
              " ('toye', 4),\n",
              " ('toads', 4),\n",
              " ('showrunner', 4),\n",
              " ('immensely', 4),\n",
              " ('brogan', 4),\n",
              " ('swallows', 4),\n",
              " ('nonviolent', 4),\n",
              " ('gawker', 4),\n",
              " ('hackers', 4),\n",
              " ('prolexic', 4),\n",
              " ('pouw', 4),\n",
              " ('melvin', 4),\n",
              " ('aggravated', 4),\n",
              " ('coerced', 4),\n",
              " ('harney', 4),\n",
              " ('boulevards', 4),\n",
              " ('mormon', 4),\n",
              " ('680', 4),\n",
              " ('serene', 4),\n",
              " ('buena', 4),\n",
              " ('vista', 4),\n",
              " ('malayan', 4),\n",
              " ('seclusion', 4),\n",
              " ('autoharp', 4),\n",
              " ('toes', 4),\n",
              " ('1k', 4),\n",
              " ('tancherês', 4),\n",
              " ('ptahhotep', 4),\n",
              " ('courtiers', 4),\n",
              " ('hellenized', 4),\n",
              " ('nyuserre', 4),\n",
              " ('meresankh', 4),\n",
              " ('neserkauhor', 4),\n",
              " ('senedjemib', 4),\n",
              " ('sed', 4),\n",
              " ('inti', 4),\n",
              " ('byblos', 4),\n",
              " ('merenre', 4),\n",
              " ('pepi', 4),\n",
              " ('silverside', 4),\n",
              " ('forester', 4),\n",
              " ('tåsen', 4),\n",
              " ('korsvoll', 4),\n",
              " ('1264', 4),\n",
              " ('secwepemc', 4),\n",
              " ('nehru', 4),\n",
              " ('hoisting', 4),\n",
              " ('jana', 4),\n",
              " ('premonition', 4),\n",
              " ('belize', 4),\n",
              " ('martinique', 4),\n",
              " ('javier', 4),\n",
              " ('lattimore', 4),\n",
              " ('453', 4),\n",
              " ('chesham', 4),\n",
              " ('churchmen', 4),\n",
              " ('propellers', 4),\n",
              " ('tjoet', 4),\n",
              " ('nja', 4),\n",
              " ('pasir', 4),\n",
              " ('sesuatu', 4),\n",
              " ('indah', 4),\n",
              " ('kerikil', 4),\n",
              " ('bandung', 4),\n",
              " ('pavers', 4),\n",
              " ('diabolus', 4),\n",
              " ('mats', 4),\n",
              " ('karagias', 4),\n",
              " ('wrestle', 4),\n",
              " ('wildside', 4),\n",
              " ('pwi', 4),\n",
              " ('wellness', 4),\n",
              " ('wizard', 4),\n",
              " ('neckbreaker', 4),\n",
              " ('groton', 4),\n",
              " ('separatists', 4),\n",
              " ('twisse', 4),\n",
              " ('propositions', 4),\n",
              " ('creeds', 4),\n",
              " ('parishes', 4),\n",
              " ('lochmarne', 4),\n",
              " ('thew', 4),\n",
              " ('kickstarter', 4),\n",
              " ('overflow', 4),\n",
              " ('wippleman', 4),\n",
              " ('loser', 4),\n",
              " ('fatu', 4),\n",
              " ('buyrate', 4),\n",
              " ('theorems', 4),\n",
              " ('theorem', 4),\n",
              " ('schank', 4),\n",
              " ('dependency', 4),\n",
              " ('papert', 4),\n",
              " ('micro', 4),\n",
              " ('sussman', 4),\n",
              " ('cmu', 4),\n",
              " ('mips', 4),\n",
              " ('predicts', 4),\n",
              " ('oc', 4),\n",
              " ('appellation', 4),\n",
              " ('syrah', 4),\n",
              " ('chardonnay', 4),\n",
              " ('vins', 4),\n",
              " ('napier', 4),\n",
              " ('aravind', 4),\n",
              " ('chakraborty', 4),\n",
              " ('gharana', 4),\n",
              " ('ngô', 4),\n",
              " ('tấn', 4),\n",
              " ('plaf', 4),\n",
              " ('quảng', 4),\n",
              " ('tomasevich', 4),\n",
              " ('cyrillic', 4),\n",
              " ('ip', 4),\n",
              " ('delineated', 4),\n",
              " ('hallucinogenic', 4),\n",
              " ('boiling', 4),\n",
              " ('detoxified', 4),\n",
              " ('lithuanians', 4),\n",
              " ('shamans', 4),\n",
              " ('cedars', 4),\n",
              " ('denounce', 4),\n",
              " ('1351', 4),\n",
              " ('1656', 4),\n",
              " ('newgate', 4),\n",
              " ('arundel', 4),\n",
              " ('menagerie', 4),\n",
              " ('ichiro', 4),\n",
              " ('swings', 4),\n",
              " ('milano', 4),\n",
              " ('joss', 4),\n",
              " ('solitarius', 4),\n",
              " ('subfossils', 4),\n",
              " ('pieter', 4),\n",
              " ('holsteyn', 4),\n",
              " ('leguat', 4),\n",
              " ('savery', 4),\n",
              " ('sieur', 4),\n",
              " ('feuilley', 4),\n",
              " ('cao', 4),\n",
              " ('karnow', 4),\n",
              " ('quinta', 4),\n",
              " ('fronted', 4),\n",
              " ('peregrine', 4),\n",
              " ('dissipate', 4),\n",
              " ('kenna', 4),\n",
              " ('298', 4),\n",
              " ('522', 4),\n",
              " ('odile', 4),\n",
              " ('anita', 4),\n",
              " ('hurdling', 4),\n",
              " ('decathlon', 4),\n",
              " ('wenlock', 4),\n",
              " ('organisers', 4),\n",
              " ('mayson', 4),\n",
              " ('heidelberg', 4),\n",
              " ('instalments', 4),\n",
              " ('acton', 4),\n",
              " ('nown', 4),\n",
              " ('dharma', 4),\n",
              " ('ethnically', 4),\n",
              " ('bleiler', 4),\n",
              " ('wandered', 4),\n",
              " ('embankments', 4),\n",
              " ('loaf', 4),\n",
              " ('glued', 4),\n",
              " ('stegosaurians', 4),\n",
              " ('pareiasaur', 4),\n",
              " ('para', 4),\n",
              " ('ornithopods', 4),\n",
              " ('nares', 4),\n",
              " ('premaxillary', 4),\n",
              " ('kentrosaurus', 4),\n",
              " ('huayangosaurus', 4),\n",
              " ('353', 4),\n",
              " ('kamara', 4),\n",
              " ('overclocked', 4),\n",
              " ('screwattack', 4),\n",
              " ('gravestone', 4),\n",
              " ('pembina', 4),\n",
              " ('hidatsa', 4),\n",
              " ('hirosaki', 4),\n",
              " ('conde', 4),\n",
              " ('koma', 4),\n",
              " ('judoka', 4),\n",
              " ('yamashita', 4),\n",
              " ('taka', 4),\n",
              " ('tokugoro', 4),\n",
              " ('laku', 4),\n",
              " ('shimitsu', 4),\n",
              " ('gastão', 4),\n",
              " ('tofu', 4),\n",
              " ('tama', 4),\n",
              " ('shingen', 4),\n",
              " ('polow', 4),\n",
              " ('hologram', 4),\n",
              " ('sternum', 4),\n",
              " ('rimu', 4),\n",
              " ('beaks', 4),\n",
              " ('rakiura', 4),\n",
              " ('skins', 4),\n",
              " ('browsing', 4),\n",
              " ('andi', 4),\n",
              " ('hut', 4),\n",
              " ('fredericksburg', 4),\n",
              " ('wetmore', 4),\n",
              " ('romulans', 4),\n",
              " ('indecent', 4),\n",
              " ('guam', 4),\n",
              " ('orderings', 4),\n",
              " ('np', 4),\n",
              " ('subgraph', 4),\n",
              " ('endpoint', 4),\n",
              " ('kōkaku', 4),\n",
              " ('cybernetic', 4),\n",
              " ('2501', 4),\n",
              " ('yamato', 4),\n",
              " ('undecided', 4),\n",
              " ('sociologists', 4),\n",
              " ('verbally', 4),\n",
              " ('balch', 4),\n",
              " ('abduction', 4),\n",
              " ('kringen', 4),\n",
              " ('supervisory', 4),\n",
              " ('longues', 4),\n",
              " ('avre', 4),\n",
              " ('harbours', 4),\n",
              " ('northumbrian', 4),\n",
              " ('231st', 4),\n",
              " ('rasc', 4),\n",
              " ('orne', 4),\n",
              " ('crépon', 4),\n",
              " ('occupants', 4),\n",
              " ('varpas', 4),\n",
              " ('findspot', 4),\n",
              " ('shinnok', 4),\n",
              " ('quan', 4),\n",
              " ('yorke', 4),\n",
              " ('horner', 4),\n",
              " ('q3', 4),\n",
              " ('magnussen', 4),\n",
              " ('stewards', 4),\n",
              " ('ludacris', 4),\n",
              " ('shawnna', 4),\n",
              " ('therepio', 4),\n",
              " ('alla', 4),\n",
              " ('qur', 4),\n",
              " ('ā', 4),\n",
              " ('rainforests', 4),\n",
              " ('bites', 4),\n",
              " ('ld50', 4),\n",
              " ('fowley', 4),\n",
              " ('ngebe', 4),\n",
              " ('ryūjinmura', 4),\n",
              " ('shigure', 4),\n",
              " ('tenets', 4),\n",
              " ('locusts', 4),\n",
              " ('vineae', 4),\n",
              " ('pathogens', 4),\n",
              " ('scapterisci', 4),\n",
              " ('pastures', 4),\n",
              " ('blazed', 4),\n",
              " ('853d', 4),\n",
              " ('souper', 4),\n",
              " ('robespierre', 4),\n",
              " ('caizhou', 4),\n",
              " ('1140', 4),\n",
              " ('yingtianfu', 4),\n",
              " ('xiangyang', 4),\n",
              " ('shizong', 4),\n",
              " ('火礮', 4),\n",
              " ('hmc', 4),\n",
              " ('t30s', 4),\n",
              " ('nod', 4),\n",
              " ('tittenhurst', 4),\n",
              " ('triatomine', 4),\n",
              " ('trypomastigotes', 4),\n",
              " ('triatoma', 4),\n",
              " ('bahía', 4),\n",
              " ('undulating', 4),\n",
              " ('nurseries', 4),\n",
              " ('kiplin', 4),\n",
              " ('seminoles', 4),\n",
              " ('sawgrass', 4),\n",
              " ('glades', 4),\n",
              " ('biscayne', 4),\n",
              " ('stoneman', 4),\n",
              " ('eaa', 4),\n",
              " ('dcpa', 4),\n",
              " ('honeymooners', 4),\n",
              " ('hyman', 4),\n",
              " ('upt', 4),\n",
              " ('cordon', 4),\n",
              " ('osmond', 4),\n",
              " ('aweary', 4),\n",
              " ('fatima', 4),\n",
              " ('a5', 4),\n",
              " ('manorina', 4),\n",
              " ('leachi', 4),\n",
              " ('ironbark', 4),\n",
              " ('bathe', 4),\n",
              " ('coteries', 4),\n",
              " ('eater', 4),\n",
              " ('merops', 4),\n",
              " ('exclusivity', 4),\n",
              " ('karyopherins', 4),\n",
              " ('heterochromatin', 4),\n",
              " ('paraspeckles', 4),\n",
              " ('coilin', 4),\n",
              " ('interchromatin', 4),\n",
              " ('rangtp', 4),\n",
              " ('disassembly', 4),\n",
              " ('apoptosis', 4),\n",
              " ('hydrated', 4),\n",
              " ('·', 4),\n",
              " ('cerium', 4),\n",
              " ('sublimation', 4),\n",
              " ('keck', 4),\n",
              " ('declination', 4),\n",
              " ('peninsulas', 4),\n",
              " ('strathaird', 4),\n",
              " ('meic', 4),\n",
              " ('oxymoron', 4),\n",
              " ('oahe', 4),\n",
              " ('km3', 4),\n",
              " ('gavins', 4),\n",
              " ('meriwether', 4),\n",
              " ('tulloch', 4),\n",
              " ('bland', 4),\n",
              " ('conduit', 4),\n",
              " ('thrive', 4),\n",
              " ('idina', 4),\n",
              " ('mckinley', 4),\n",
              " ('kubicek', 4),\n",
              " ('clichéd', 4),\n",
              " ('respers', 4),\n",
              " ('futterman', 4),\n",
              " ('larroquette', 4),\n",
              " ('ramsbury', 4),\n",
              " ('hagiography', 4),\n",
              " ('gallimard', 4),\n",
              " ('stis', 4),\n",
              " ('polyisoprene', 4),\n",
              " ('std', 4),\n",
              " ('allergic', 4),\n",
              " ('nonoxynol', 4),\n",
              " ('glans', 4),\n",
              " ('pugliese', 4),\n",
              " ('rossiya', 4),\n",
              " ('molotovsk', 4),\n",
              " ('sardi', 4),\n",
              " ('giring', 4),\n",
              " ('walidah', 4),\n",
              " ('barremian', 4),\n",
              " ('camptosaurus', 4),\n",
              " ('dollo', 4),\n",
              " ('iguanodonts', 4),\n",
              " ('fours', 4),\n",
              " ('cassowary', 4),\n",
              " ('joystick', 4),\n",
              " ('muybridge', 4),\n",
              " ('scars', 4),\n",
              " ('um', 4),\n",
              " ('teddy', 4),\n",
              " ('jowell', 4),\n",
              " ('berm', 4),\n",
              " ('olorotitan', 4),\n",
              " ('integument', 4),\n",
              " ('kritosaurus', 4),\n",
              " ('premaxillaries', 4),\n",
              " ('prefrontals', 4),\n",
              " ('trackage', 4),\n",
              " ('vāda', 4),\n",
              " ('syāt', 4),\n",
              " ('samantabhadra', 4),\n",
              " ('asti', 4),\n",
              " ('nāsti', 4),\n",
              " ('avaktavyaḥ', 4),\n",
              " ('indescribable', 4),\n",
              " ('dravya', 4),\n",
              " ('hinduism', 4),\n",
              " ('oosterbeek', 4),\n",
              " ('naruhodō', 4),\n",
              " ('layton', 4),\n",
              " ('vietnamization', 4),\n",
              " ('cham', 4),\n",
              " ('ptychoverpa', 4),\n",
              " ('kolkata', 4),\n",
              " ('kanpur', 4),\n",
              " ('tulsidas', 4),\n",
              " ('kabir', 4),\n",
              " ('maratha', 4),\n",
              " ('varuna', 4),\n",
              " ('assi', 4),\n",
              " ('mosques', 4),\n",
              " ('agglomeration', 4),\n",
              " ('ayurvedic', 4),\n",
              " ('jantar', 4),\n",
              " ('mantar', 4),\n",
              " ('maharaj', 4),\n",
              " ('sunspot', 4),\n",
              " ('anketell', 4),\n",
              " ('northam', 4),\n",
              " ('rabaul', 4),\n",
              " ('sumatra', 4),\n",
              " ('mashtots', 4),\n",
              " ('ჯ', 4),\n",
              " ('ი', 4),\n",
              " ('ო', 4),\n",
              " ('ხ', 4),\n",
              " ('ossetian', 4),\n",
              " ('ვ', 4),\n",
              " ('კ', 4),\n",
              " ('tbilisi', 4),\n",
              " ('yamu', 4),\n",
              " ('bhandara', 4),\n",
              " ('151eu', 4),\n",
              " ('154eu', 4),\n",
              " ('gadolinium', 4),\n",
              " ('bulbs', 4),\n",
              " ('lerew', 4),\n",
              " ('usaaf', 4),\n",
              " ('capensis', 4),\n",
              " ('haga', 4),\n",
              " ('wag', 4),\n",
              " ('segmental', 4),\n",
              " ('trapdoor', 4),\n",
              " ('brackenburn', 4),\n",
              " ('cheevers', 4),\n",
              " ('fetishist', 4),\n",
              " ('necrophiliac', 4),\n",
              " ('supercar', 4),\n",
              " ('dyneley', 4),\n",
              " ('piloted', 4),\n",
              " ('kyrano', 4),\n",
              " ('bignell', 4),\n",
              " ('cull', 4),\n",
              " ('carbuncle', 4),\n",
              " ('boobs', 4),\n",
              " ('broadoak', 4),\n",
              " ('bogotá', 4),\n",
              " ('vergara', 4),\n",
              " ('oxbow', 4),\n",
              " ('carnation', 4),\n",
              " ('niassa', 4),\n",
              " ('lourenço', 4),\n",
              " ('machel', 4),\n",
              " ('tete', 4),\n",
              " ('landmines', 4),\n",
              " ('pide', 4),\n",
              " ('kaúlza', 4),\n",
              " ('flechas', 4),\n",
              " ('wiriyamu', 4),\n",
              " ('threepwood', 4),\n",
              " ('eshmunazar', 4),\n",
              " ('bodashtart', 4),\n",
              " ('nymphaeum', 4),\n",
              " ('düsseldorf', 4),\n",
              " ('kaspar', 4),\n",
              " ('bassermann', 4),\n",
              " ('filucius', 4),\n",
              " ('kinetics', 4),\n",
              " ('steffie', 4),\n",
              " ('pulsar', 4),\n",
              " ('galactic', 4),\n",
              " ('monogram', 4),\n",
              " ('firs', 4),\n",
              " ('pianists', 4),\n",
              " ('sorabji', 4),\n",
              " ('napoléon', 4),\n",
              " ('solfège', 4),\n",
              " ('franck', 4),\n",
              " ('marmontel', 4),\n",
              " ('préludes', 4),\n",
              " ('hiller', 4),\n",
              " ('tous', 4),\n",
              " ('érard', 4),\n",
              " ('sturnus', 4),\n",
              " ('sturnidae', 4),\n",
              " ('zetlandicus', 4),\n",
              " ('flea', 4),\n",
              " ('戦場のヴァルキュリア3', 3),\n",
              " ('europan', 3),\n",
              " ('honjou', 3),\n",
              " ('hitoshi', 3),\n",
              " ('ozawa', 3),\n",
              " ('potentials', 3),\n",
              " ('innate', 3),\n",
              " ('impede', 3),\n",
              " ('imca', 3),\n",
              " ('stats', 3),\n",
              " ('falsely', 3),\n",
              " ('redeem', 3),\n",
              " ('riela', 3),\n",
              " ('422nd', 3),\n",
              " ('benefactor', 3),\n",
              " ('newfound', 3),\n",
              " ('individuality', 3),\n",
              " ('unpopularity', 3),\n",
              " ('tweaks', 3),\n",
              " ('geddes', 3),\n",
              " ('enjoying', 3),\n",
              " ('kotaku', 3),\n",
              " ('jockey', 3),\n",
              " ('harrel', 3),\n",
              " ('surrendering', 3),\n",
              " ('fabrication', 3),\n",
              " ('confederates', 3),\n",
              " ('smoothbore', 3),\n",
              " ('864', 3),\n",
              " ('364', 3),\n",
              " ('surmised', 3),\n",
              " ('mustered', 3),\n",
              " ('destitute', 3),\n",
              " ('undertakings', 3),\n",
              " ('conscripted', 3),\n",
              " ('236', 3),\n",
              " ('packages', 3),\n",
              " ('hoist', 3),\n",
              " ('unoccupied', 3),\n",
              " ('babcock', 3),\n",
              " ('girlhood', 3),\n",
              " ('artworks', 3),\n",
              " ('fundraisers', 3),\n",
              " ('waddon', 3),\n",
              " ('caldecott', 3),\n",
              " ('advertiser', 3),\n",
              " ('calthrop', 3),\n",
              " ('borrow', 3),\n",
              " ('whitby', 3),\n",
              " ('fondness', 3),\n",
              " ('rushie', 3),\n",
              " ('necklaces', 3),\n",
              " ('₤', 3),\n",
              " ('sos', 3),\n",
              " ('tamba', 3),\n",
              " ('abuses', 3),\n",
              " ('staffers', 3),\n",
              " ('neotrygon', 3),\n",
              " ('annotata', 3),\n",
              " ('bottomed', 3),\n",
              " ('patterned', 3),\n",
              " ('trawls', 3),\n",
              " ('gracile', 3),\n",
              " ('csiro', 3),\n",
              " ('sequenced', 3),\n",
              " ('sorted', 3),\n",
              " ('converge', 3),\n",
              " ('flap', 3),\n",
              " ('papillae', 3),\n",
              " ('stings', 3),\n",
              " ('denticles', 3),\n",
              " ('midline', 3),\n",
              " ('dweller', 3),\n",
              " ('hunts', 3),\n",
              " ('ovary', 3),\n",
              " ('newborns', 3),\n",
              " ('widths', 3),\n",
              " ('fished', 3),\n",
              " ('intensively', 3),\n",
              " ('oilers', 3),\n",
              " ('islanders', 3),\n",
              " ('canucks', 3),\n",
              " ('waive', 3),\n",
              " ('thanked', 3),\n",
              " ('reiterating', 3),\n",
              " ('froze', 3),\n",
              " ('000th', 3),\n",
              " ('1580', 3),\n",
              " ('della', 3),\n",
              " ('embellished', 3),\n",
              " ('gilii', 3),\n",
              " ('comets', 3),\n",
              " ('conforming', 3),\n",
              " ('meteorologist', 3),\n",
              " ('272', 3),\n",
              " ('bromide', 3),\n",
              " ('calming', 3),\n",
              " ('muhammed', 3),\n",
              " ('denouncing', 3),\n",
              " ('idealistic', 3),\n",
              " ('wyo', 3),\n",
              " ('courthouse', 3),\n",
              " ('tonnage', 3),\n",
              " ('762', 3),\n",
              " ('rounding', 3),\n",
              " ('006', 3),\n",
              " ('angled', 3),\n",
              " ('191', 3),\n",
              " ('508', 3),\n",
              " ('lever', 3),\n",
              " ('forsaken', 3),\n",
              " ('leaks', 3),\n",
              " ('josiah', 3),\n",
              " ('timely', 3),\n",
              " ('coaling', 3),\n",
              " ('tugboat', 3),\n",
              " ('cleanly', 3),\n",
              " ('dahlgren', 3),\n",
              " ('sylvain', 3),\n",
              " ('aspired', 3),\n",
              " ('jasmine', 3),\n",
              " ('ndtv', 3),\n",
              " ('rajeev', 3),\n",
              " ('masand', 3),\n",
              " ('gaurav', 3),\n",
              " ('tempting', 3),\n",
              " ('padukone', 3),\n",
              " ('pretentious', 3),\n",
              " ('jha', 3),\n",
              " ('emotive', 3),\n",
              " ...]"
            ]
          },
          "metadata": {},
          "execution_count": 30
        }
      ]
    },
    {
      "cell_type": "markdown",
      "source": [
        "## 🟠 Transform the data"
      ],
      "metadata": {
        "id": "mRXTTORB05kI"
      }
    },
    {
      "cell_type": "markdown",
      "source": [
        "🛑 Make sure to perform the transformations on train, validation and test datasets."
      ],
      "metadata": {
        "id": "d3OFa5BE0_WR"
      }
    },
    {
      "cell_type": "markdown",
      "source": [
        "🔰 Reshape the dataset into an `N x B x L` or `M x L` format, where `N` represents the number of batches, `B` is the batch size, `L` is the length of a sample within each batch, and `M` is equal to `N x B`."
      ],
      "metadata": {
        "id": "Li__CrdI1L11"
      }
    },
    {
      "cell_type": "code",
      "source": [
        "a = [vocab(tokenizer(line)) for line in train_iter]\n",
        "b = [line for line in train_iter]\n",
        "a[1], b[1]"
      ],
      "metadata": {
        "colab": {
          "base_uri": "https://localhost:8080/"
        },
        "id": "OAq8hfTG2-TS",
        "outputId": "0e94193e-af11-42d9-c946-30aa4d8b968d"
      },
      "execution_count": null,
      "outputs": [
        {
          "output_type": "execute_result",
          "data": {
            "text/plain": [
              "([9, 3849, 3869, 881, 9], ' = Valkyria Chronicles III = \\n')"
            ]
          },
          "metadata": {},
          "execution_count": 31
        }
      ]
    },
    {
      "cell_type": "code",
      "source": [
        "def data_process(raw_text_iter, seq_len):\n",
        "  data = torch.cat([torch.LongTensor(vocab(tokenizer(line))) for line in raw_text_iter])\n",
        "\n",
        "  M = len(data) // seq_len\n",
        "\n",
        "  r = len(data) % seq_len\n",
        "  data = torch.cat((data, torch.LongTensor([0]))) if r==0 else data\n",
        "\n",
        "  inputs = data[:M*seq_len]\n",
        "  inputs = inputs.reshape(-1, seq_len)\n",
        "\n",
        "  targets = data[1:M*seq_len+1]\n",
        "  targets = targets.reshape(-1, seq_len)\n",
        "\n",
        "  return inputs, targets"
      ],
      "metadata": {
        "id": "0I2rMhsZwiU_"
      },
      "execution_count": null,
      "outputs": []
    },
    {
      "cell_type": "code",
      "source": [
        "seq_len = 35\n",
        "\n",
        "X_train, y_train = data_process(train_iter, seq_len)\n",
        "X_valid, y_valid = data_process(valid_iter, seq_len)\n",
        "X_test, y_test = data_process(test_iter, seq_len)\n",
        "\n",
        "X_train.shape, y_train.shape, X_valid.shape, y_valid.shape, X_test.shape, y_test.shape"
      ],
      "metadata": {
        "colab": {
          "base_uri": "https://localhost:8080/"
        },
        "id": "4GS24_a71BPa",
        "outputId": "b21d4890-3e83-4928-cdce-91d35686074c"
      },
      "execution_count": null,
      "outputs": [
        {
          "output_type": "execute_result",
          "data": {
            "text/plain": [
              "(torch.Size([58571, 35]),\n",
              " torch.Size([58571, 35]),\n",
              " torch.Size([6126, 35]),\n",
              " torch.Size([6126, 35]),\n",
              " torch.Size([6910, 35]),\n",
              " torch.Size([6910, 35]))"
            ]
          },
          "metadata": {},
          "execution_count": 33
        }
      ]
    },
    {
      "cell_type": "markdown",
      "source": [
        "## 🟠 Custom dataset"
      ],
      "metadata": {
        "id": "lg7uANLW7F1a"
      }
    },
    {
      "cell_type": "markdown",
      "source": [
        "🔰 Write a custom dataset class for LanguageModelDataset."
      ],
      "metadata": {
        "id": "dNj_cNsR7JTm"
      }
    },
    {
      "cell_type": "code",
      "source": [
        "class LanguageModelDataset(Dataset):\n",
        "\n",
        "  def __init__(self, inputs, targets):\n",
        "    self.inputs = inputs\n",
        "    self.targets = targets\n",
        "\n",
        "  def __len__(self):\n",
        "    return self.inputs.shape[0]\n",
        "\n",
        "  def __getitem__(self, idx):\n",
        "    return self.inputs[idx], self.targets[idx]"
      ],
      "metadata": {
        "id": "I1dYjeLQ1BSY"
      },
      "execution_count": null,
      "outputs": []
    },
    {
      "cell_type": "code",
      "source": [
        "train_set = LanguageModelDataset(X_train, y_train)\n",
        "valid_set = LanguageModelDataset(X_valid, y_valid)\n",
        "test_set = LanguageModelDataset(X_test, y_test)"
      ],
      "metadata": {
        "id": "8Px8blh00y7O"
      },
      "execution_count": null,
      "outputs": []
    },
    {
      "cell_type": "code",
      "source": [
        "train_set[0]"
      ],
      "metadata": {
        "colab": {
          "base_uri": "https://localhost:8080/"
        },
        "id": "YdWIvf1L0y-t",
        "outputId": "2fd2edaf-ab83-44fc-a368-c4b6775061a8"
      },
      "execution_count": null,
      "outputs": [
        {
          "output_type": "execute_result",
          "data": {
            "text/plain": [
              "(tensor([    9,  3849,  3869,   881,     9, 20000,    83,  3849,    88,     0,\n",
              "          3869,    21,   780, 28780,     2,  6182,     3,  3849,     4,     1,\n",
              "          5023,    88,    20,     2,  1837,  1018,     7,    14,  3849,  3869,\n",
              "           881,   629,   976,     2,    23]),\n",
              " tensor([ 3849,  3869,   881,     9, 20000,    83,  3849,    88,     0,  3869,\n",
              "            21,   780, 28780,     2,  6182,     3,  3849,     4,     1,  5023,\n",
              "            88,    20,     2,  1837,  1018,     7,    14,  3849,  3869,   881,\n",
              "           629,   976,     2,    23,     8]))"
            ]
          },
          "metadata": {},
          "execution_count": 36
        }
      ]
    },
    {
      "cell_type": "markdown",
      "source": [
        "## 🟠 Define a dataloader if needed"
      ],
      "metadata": {
        "id": "GVxfQVlF8yrR"
      }
    },
    {
      "cell_type": "markdown",
      "source": [
        "🔰 Write dataloaders for the training, validation, and test sets."
      ],
      "metadata": {
        "id": "9Vap3w-Y82Et"
      }
    },
    {
      "cell_type": "code",
      "source": [
        "batch_size = 20\n",
        "\n",
        "train_loader = DataLoader(train_set, batch_size=batch_size, shuffle=True)\n",
        "valid_loader = DataLoader(valid_set, batch_size=batch_size, shuffle=False)\n",
        "test_loader = DataLoader(test_set, batch_size=batch_size, shuffle=False)"
      ],
      "metadata": {
        "id": "8uuqhU-38jZf"
      },
      "execution_count": null,
      "outputs": []
    },
    {
      "cell_type": "code",
      "source": [
        "x_batch, y_batch = next(iter(train_loader))\n",
        "x_batch.shape, y_batch.shape"
      ],
      "metadata": {
        "colab": {
          "base_uri": "https://localhost:8080/"
        },
        "id": "sJm6gm7v8jcu",
        "outputId": "1bc4a5ea-489a-4e27-b847-f1a135a4f436"
      },
      "execution_count": null,
      "outputs": [
        {
          "output_type": "execute_result",
          "data": {
            "text/plain": [
              "(torch.Size([20, 35]), torch.Size([20, 35]))"
            ]
          },
          "metadata": {},
          "execution_count": 38
        }
      ]
    },
    {
      "cell_type": "markdown",
      "source": [
        "# 🔴 **Model**"
      ],
      "metadata": {
        "id": "8aPCJz3hlxIn"
      }
    },
    {
      "cell_type": "markdown",
      "source": [
        "🔰 Use the following template to create a custom model.\n",
        "\n",
        "Your model should consist of three parts:\n",
        "\n",
        "*   an embedding layer\n",
        "*   an LSTM layer\n",
        "*   a fully connected layer"
      ],
      "metadata": {
        "id": "6HyLhReql2sj"
      }
    },
    {
      "cell_type": "code",
      "source": [
        "class LanguageModel(nn.Module):\n",
        "\n",
        "  def __init__(self, vocab_size, embedding_dim, hidden_dim, num_layers,\n",
        "                dropout_embd=0.5, dropout_rnn=0.5):\n",
        "    super().__init__()\n",
        "    self.num_layers = num_layers\n",
        "    self.hidden_dim = hidden_dim\n",
        "    self.embedding_dim = embedding_dim\n",
        "\n",
        "    self.embedding = nn.Embedding(vocab_size, embedding_dim)\n",
        "    self.embedding.weight.data.uniform_(-0.1, 0.1)\n",
        "    self.dropout = nn.Dropout(p=dropout_embd)\n",
        "\n",
        "    self.lstm = nn.LSTM(embedding_dim, hidden_dim, num_layers=num_layers,\n",
        "                        dropout=dropout_rnn, batch_first=True)\n",
        "\n",
        "    self.fc = nn.Linear(hidden_dim, vocab_size)\n",
        "\n",
        "  def forward(self, src):\n",
        "    embedding = self.dropout(self.embedding(src))\n",
        "    output, hidden = self.lstm(embedding)\n",
        "    prediction = self.fc(output)\n",
        "    return prediction"
      ],
      "metadata": {
        "id": "zynbMJWL8jfN"
      },
      "execution_count": null,
      "outputs": []
    },
    {
      "cell_type": "code",
      "source": [
        "model = LanguageModel(vocab_size=len(vocab),\n",
        "                      embedding_dim=300,\n",
        "                      hidden_dim=512,\n",
        "                      num_layers=2,\n",
        "                      dropout_embd=0.65,\n",
        "                      dropout_rnn=0.5)\n",
        "model"
      ],
      "metadata": {
        "colab": {
          "base_uri": "https://localhost:8080/"
        },
        "id": "hbdNT7WOlq52",
        "outputId": "8dbeeb2e-a882-4f42-8247-7a074d2ba28c"
      },
      "execution_count": null,
      "outputs": [
        {
          "output_type": "execute_result",
          "data": {
            "text/plain": [
              "LanguageModel(\n",
              "  (embedding): Embedding(28782, 300)\n",
              "  (dropout): Dropout(p=0.65, inplace=False)\n",
              "  (lstm): LSTM(300, 512, num_layers=2, batch_first=True, dropout=0.5)\n",
              "  (fc): Linear(in_features=512, out_features=28782, bias=True)\n",
              ")"
            ]
          },
          "metadata": {},
          "execution_count": 40
        }
      ]
    },
    {
      "cell_type": "code",
      "source": [
        "model(x_batch).shape"
      ],
      "metadata": {
        "colab": {
          "base_uri": "https://localhost:8080/"
        },
        "id": "HXsh4iNnlq8k",
        "outputId": "000032c9-bb53-469a-be4b-2a808474b335"
      },
      "execution_count": null,
      "outputs": [
        {
          "output_type": "execute_result",
          "data": {
            "text/plain": [
              "torch.Size([20, 35, 28782])"
            ]
          },
          "metadata": {},
          "execution_count": 41
        }
      ]
    },
    {
      "cell_type": "code",
      "source": [
        "num_trainable_params(model.embedding), num_trainable_params(model.lstm), num_trainable_params(model.fc)"
      ],
      "metadata": {
        "colab": {
          "base_uri": "https://localhost:8080/"
        },
        "id": "zQ8_XUyilq_E",
        "outputId": "b0ca8653-4ee7-4d00-f431-699660dd8471"
      },
      "execution_count": null,
      "outputs": [
        {
          "output_type": "execute_result",
          "data": {
            "text/plain": [
              "(8.6346, 3.76832, 14.765166)"
            ]
          },
          "metadata": {},
          "execution_count": 42
        }
      ]
    },
    {
      "cell_type": "markdown",
      "source": [
        "# 🔴 **Config**"
      ],
      "metadata": {
        "id": "mWUviiFDBL5j"
      }
    },
    {
      "cell_type": "code",
      "source": [
        "device = 'cuda' if torch.cuda.is_available() else 'cpu'\n",
        "device"
      ],
      "metadata": {
        "id": "iGc8AZIS8jiD",
        "colab": {
          "base_uri": "https://localhost:8080/"
        },
        "outputId": "890b4b01-a2da-4814-e848-3fd65afca70f"
      },
      "execution_count": null,
      "outputs": [
        {
          "output_type": "execute_result",
          "data": {
            "text/plain": [
              "'cuda'"
            ],
            "application/vnd.google.colaboratory.intrinsic+json": {
              "type": "string"
            }
          },
          "metadata": {},
          "execution_count": 43
        }
      ]
    },
    {
      "cell_type": "code",
      "source": [
        "vocab_size = len(vocab)\n",
        "embedding_dim = 300\n",
        "hidden_dim = 512\n",
        "num_layers = 2\n",
        "dropout_embd = 0.5\n",
        "dropout_rnn = 0.2\n",
        "\n",
        "model = LanguageModel(vocab_size, embedding_dim,\n",
        "                      hidden_dim, num_layers,\n",
        "                      dropout_embd, dropout_rnn).to(device)"
      ],
      "metadata": {
        "id": "5_sVE2BUA1qS"
      },
      "execution_count": null,
      "outputs": []
    },
    {
      "cell_type": "markdown",
      "source": [
        "🔰 Define the optimizer, loss function, metrics and other necessary parameters in this section, and ensure the model is sent to the appropriate device."
      ],
      "metadata": {
        "id": "UHIbsh-ZFFpS"
      }
    },
    {
      "cell_type": "code",
      "source": [
        "optimizer = optim.SGD(model.parameters(), lr=0.5, weight_decay=0, momentum=0.9, nesterov=True)\n",
        "\n",
        "loss_fn = nn.CrossEntropyLoss()\n",
        "\n",
        "metric = tm.text.Perplexity().to(device)"
      ],
      "metadata": {
        "id": "sahBg2FLA1sz"
      },
      "execution_count": null,
      "outputs": []
    },
    {
      "cell_type": "code",
      "source": [
        "clip = 0.25"
      ],
      "metadata": {
        "id": "QmLSbOOzA1vh"
      },
      "execution_count": null,
      "outputs": []
    },
    {
      "cell_type": "markdown",
      "source": [
        "# 🔴 **Train ➰**"
      ],
      "metadata": {
        "id": "W2kYM_FRGjtW"
      }
    },
    {
      "cell_type": "markdown",
      "source": [
        "🔰 This is the template for train function, change it if needed."
      ],
      "metadata": {
        "id": "fKko3betGnDC"
      }
    },
    {
      "cell_type": "code",
      "source": [
        "def train_one_epoch(model, train_loader, loss_fn, optimizer, metric, epoch=None):\n",
        "  model.train()\n",
        "  loss_train = AverageMeter()\n",
        "  metric.reset()\n",
        "\n",
        "  with tqdm.tqdm(train_loader, unit='batch') as tepoch:\n",
        "    for inputs, targets in tepoch:\n",
        "      if epoch:\n",
        "        tepoch.set_description(f'Epoch {epoch}')\n",
        "\n",
        "      inputs = inputs.to(device)\n",
        "      targets = targets.to(device)\n",
        "\n",
        "      outputs = model(inputs)\n",
        "\n",
        "      loss = loss_fn(outputs.reshape(-1, outputs.shape[-1]), targets.flatten())\n",
        "\n",
        "      loss.backward()\n",
        "\n",
        "      nn.utils.clip_grad.clip_grad_norm_(model.parameters(), max_norm=clip)\n",
        "\n",
        "      optimizer.step()\n",
        "      optimizer.zero_grad()\n",
        "\n",
        "      loss_train.update(loss.item(), n=len(targets))\n",
        "      metric.update(outputs, targets)\n",
        "\n",
        "      tepoch.set_postfix(loss=loss_train.avg, metric=metric.compute().item())\n",
        "\n",
        "  return model, loss_train.avg, metric.compute().item()"
      ],
      "metadata": {
        "id": "h39XTyUOGkQa"
      },
      "execution_count": null,
      "outputs": []
    },
    {
      "cell_type": "markdown",
      "source": [
        "# 🔴 **Evaluation**"
      ],
      "metadata": {
        "id": "STK_yITNG6cm"
      }
    },
    {
      "cell_type": "markdown",
      "source": [
        "🔰 This is the template for evaluation function, change it if needed."
      ],
      "metadata": {
        "id": "WgbwqTcnG97e"
      }
    },
    {
      "cell_type": "code",
      "source": [
        "def evaluate(model, test_loader, loss_fn, metric):\n",
        "  model.eval()\n",
        "  loss_eval = AverageMeter()\n",
        "  metric.reset()\n",
        "\n",
        "  with torch.inference_mode():\n",
        "    for inputs, targets in test_loader:\n",
        "      inputs = inputs.to(device)\n",
        "      targets = targets.to(device)\n",
        "\n",
        "      outputs = model(inputs)\n",
        "\n",
        "      loss = loss_fn(outputs.reshape(-1, outputs.shape[-1]), targets.flatten())\n",
        "      loss_eval.update(loss.item(), n=len(targets))\n",
        "\n",
        "      metric(outputs, targets)\n",
        "\n",
        "  return loss_eval.avg, metric.compute().item()"
      ],
      "metadata": {
        "id": "xY1QMr_-G2Vw"
      },
      "execution_count": null,
      "outputs": []
    },
    {
      "cell_type": "markdown",
      "source": [
        "# 🔴 **Training Process 〽️**"
      ],
      "metadata": {
        "id": "Pm-qAFKTH0EF"
      }
    },
    {
      "cell_type": "markdown",
      "source": [
        "## 🟠 Finding Hyper-parameters"
      ],
      "metadata": {
        "id": "-Pll1Eg3IJFG"
      }
    },
    {
      "cell_type": "markdown",
      "source": [
        "### 🟡 **Step 1:** Calculate the loss for an untrained model using a few batches."
      ],
      "metadata": {
        "id": "4Iq9zXPgIOjY"
      }
    },
    {
      "cell_type": "code",
      "source": [
        "model = LanguageModel(len(vocab), embedding_dim=300,\n",
        "                      hidden_dim=512, num_layers=2,\n",
        "                      dropout_embd=0.5, dropout_rnn=0.2).to(device)\n",
        "\n",
        "inputs, targets = next(iter(train_loader))\n",
        "inputs = inputs.to(device)\n",
        "targets = targets.to(device)\n",
        "\n",
        "with torch.no_grad():\n",
        "  outputs = model(inputs)\n",
        "  loss = loss_fn(outputs.reshape(-1, outputs.shape[-1]), targets.flatten())\n",
        "\n",
        "print(loss)"
      ],
      "metadata": {
        "colab": {
          "base_uri": "https://localhost:8080/"
        },
        "id": "5EzGA6DeG2Yt",
        "outputId": "970bce81-4550-4536-9a70-5849d9d46659"
      },
      "execution_count": null,
      "outputs": [
        {
          "output_type": "stream",
          "name": "stdout",
          "text": [
            "tensor(10.2694, device='cuda:0')\n"
          ]
        }
      ]
    },
    {
      "cell_type": "code",
      "source": [
        "outputs.reshape(-1, outputs.shape[-1]).shape, targets.flatten().shape"
      ],
      "metadata": {
        "colab": {
          "base_uri": "https://localhost:8080/"
        },
        "id": "Kkdh9REVG2bP",
        "outputId": "b11017e1-2cab-41d3-c925-1321451463ea"
      },
      "execution_count": null,
      "outputs": [
        {
          "output_type": "execute_result",
          "data": {
            "text/plain": [
              "(torch.Size([700, 28782]), torch.Size([700]))"
            ]
          },
          "metadata": {},
          "execution_count": 50
        }
      ]
    },
    {
      "cell_type": "code",
      "source": [
        "torch.cuda.empty_cache()"
      ],
      "metadata": {
        "id": "7ljcGsBwG2ee"
      },
      "execution_count": null,
      "outputs": []
    },
    {
      "cell_type": "markdown",
      "source": [
        "### 🟡 **Step 2:** Try to train and overfit the model on a small subset of the dataset."
      ],
      "metadata": {
        "id": "Sc_Tprx9Kate"
      }
    },
    {
      "cell_type": "code",
      "source": [
        "model = LanguageModel(len(vocab), embedding_dim=300,\n",
        "                      hidden_dim=512, num_layers=2,\n",
        "                      dropout_embd=0.5, dropout_rnn=0.2).to(device)\n",
        "\n",
        "optimizer = torch.optim.SGD(model.parameters(), lr=0.9, momentum=0.9)"
      ],
      "metadata": {
        "id": "G7g5ZJPFKebi"
      },
      "execution_count": null,
      "outputs": []
    },
    {
      "cell_type": "code",
      "source": [
        "mini_train_size = 1000\n",
        "_, mini_train_dataset = random_split(train_set, (len(train_set)-mini_train_size, mini_train_size))\n",
        "mini_train_loader = DataLoader(mini_train_dataset, 20)"
      ],
      "metadata": {
        "id": "K2J4GWTsKgzD"
      },
      "execution_count": null,
      "outputs": []
    },
    {
      "cell_type": "code",
      "source": [
        "num_epochs = 100\n",
        "for epoch in range(num_epochs):\n",
        "  model, _, _ = train_one_epoch(model, mini_train_loader, loss_fn, optimizer, metric, epoch)"
      ],
      "metadata": {
        "colab": {
          "base_uri": "https://localhost:8080/"
        },
        "id": "ctZy7BbLKg3H",
        "outputId": "f9216e69-5ac5-4046-92d1-4ed71e14f70a"
      },
      "execution_count": null,
      "outputs": [
        {
          "output_type": "stream",
          "name": "stderr",
          "text": [
            "100%|██████████| 50/50 [00:02<00:00, 21.95batch/s, loss=8.4, metric=4.43e+3]\n",
            "Epoch 1: 100%|██████████| 50/50 [00:01<00:00, 28.39batch/s, loss=7.2, metric=1.34e+3]\n",
            "Epoch 2: 100%|██████████| 50/50 [00:01<00:00, 27.49batch/s, loss=7.01, metric=1.11e+3]\n",
            "Epoch 3: 100%|██████████| 50/50 [00:01<00:00, 28.74batch/s, loss=6.94, metric=1.03e+3]\n",
            "Epoch 4: 100%|██████████| 50/50 [00:01<00:00, 28.56batch/s, loss=6.86, metric=952]\n",
            "Epoch 5: 100%|██████████| 50/50 [00:01<00:00, 28.23batch/s, loss=6.74, metric=844]\n",
            "Epoch 6: 100%|██████████| 50/50 [00:01<00:00, 28.63batch/s, loss=6.61, metric=745]\n",
            "Epoch 7: 100%|██████████| 50/50 [00:01<00:00, 28.43batch/s, loss=6.51, metric=673]\n",
            "Epoch 8: 100%|██████████| 50/50 [00:01<00:00, 27.87batch/s, loss=6.43, metric=623]\n",
            "Epoch 9: 100%|██████████| 50/50 [00:01<00:00, 27.70batch/s, loss=6.35, metric=575]\n",
            "Epoch 10: 100%|██████████| 50/50 [00:01<00:00, 28.41batch/s, loss=6.28, metric=534]\n",
            "Epoch 11: 100%|██████████| 50/50 [00:01<00:00, 28.48batch/s, loss=6.21, metric=497]\n",
            "Epoch 12: 100%|██████████| 50/50 [00:01<00:00, 28.34batch/s, loss=6.13, metric=459]\n",
            "Epoch 13: 100%|██████████| 50/50 [00:01<00:00, 27.92batch/s, loss=6.05, metric=425]\n",
            "Epoch 14: 100%|██████████| 50/50 [00:01<00:00, 28.25batch/s, loss=5.97, metric=392]\n",
            "Epoch 15: 100%|██████████| 50/50 [00:01<00:00, 27.64batch/s, loss=5.89, metric=362]\n",
            "Epoch 16: 100%|██████████| 50/50 [00:01<00:00, 27.90batch/s, loss=5.81, metric=332]\n",
            "Epoch 17: 100%|██████████| 50/50 [00:01<00:00, 28.24batch/s, loss=5.72, metric=304]\n",
            "Epoch 18: 100%|██████████| 50/50 [00:01<00:00, 28.14batch/s, loss=5.63, metric=280]\n",
            "Epoch 19: 100%|██████████| 50/50 [00:01<00:00, 28.12batch/s, loss=5.56, metric=260]\n",
            "Epoch 20: 100%|██████████| 50/50 [00:01<00:00, 27.89batch/s, loss=5.47, metric=238]\n",
            "Epoch 21: 100%|██████████| 50/50 [00:01<00:00, 28.22batch/s, loss=5.38, metric=216]\n",
            "Epoch 22: 100%|██████████| 50/50 [00:01<00:00, 27.59batch/s, loss=5.28, metric=196]\n",
            "Epoch 23: 100%|██████████| 50/50 [00:01<00:00, 27.77batch/s, loss=5.18, metric=178]\n",
            "Epoch 24: 100%|██████████| 50/50 [00:01<00:00, 27.85batch/s, loss=5.09, metric=163]\n",
            "Epoch 25: 100%|██████████| 50/50 [00:01<00:00, 27.89batch/s, loss=5.01, metric=149]\n",
            "Epoch 26: 100%|██████████| 50/50 [00:01<00:00, 27.77batch/s, loss=4.91, metric=135]\n",
            "Epoch 27: 100%|██████████| 50/50 [00:01<00:00, 25.28batch/s, loss=4.8, metric=122]\n",
            "Epoch 28: 100%|██████████| 50/50 [00:01<00:00, 26.48batch/s, loss=4.72, metric=112]\n",
            "Epoch 29: 100%|██████████| 50/50 [00:01<00:00, 27.34batch/s, loss=4.63, metric=102]\n",
            "Epoch 30: 100%|██████████| 50/50 [00:01<00:00, 27.77batch/s, loss=4.54, metric=94.1]\n",
            "Epoch 31: 100%|██████████| 50/50 [00:01<00:00, 27.53batch/s, loss=4.45, metric=86]\n",
            "Epoch 32: 100%|██████████| 50/50 [00:01<00:00, 27.65batch/s, loss=4.35, metric=77.6]\n",
            "Epoch 33: 100%|██████████| 50/50 [00:01<00:00, 27.46batch/s, loss=4.25, metric=70.1]\n",
            "Epoch 34: 100%|██████████| 50/50 [00:01<00:00, 27.57batch/s, loss=4.14, metric=62.5]\n",
            "Epoch 35: 100%|██████████| 50/50 [00:01<00:00, 27.21batch/s, loss=4.05, metric=57.7]\n",
            "Epoch 36: 100%|██████████| 50/50 [00:01<00:00, 27.19batch/s, loss=3.95, metric=51.9]\n",
            "Epoch 37: 100%|██████████| 50/50 [00:01<00:00, 27.45batch/s, loss=3.85, metric=46.9]\n",
            "Epoch 38: 100%|██████████| 50/50 [00:01<00:00, 27.48batch/s, loss=3.75, metric=42.5]\n",
            "Epoch 39: 100%|██████████| 50/50 [00:01<00:00, 27.46batch/s, loss=3.66, metric=38.8]\n",
            "Epoch 40: 100%|██████████| 50/50 [00:01<00:00, 27.15batch/s, loss=3.57, metric=35.6]\n",
            "Epoch 41: 100%|██████████| 50/50 [00:01<00:00, 27.24batch/s, loss=3.46, metric=31.9]\n",
            "Epoch 42: 100%|██████████| 50/50 [00:01<00:00, 26.86batch/s, loss=3.37, metric=29]\n",
            "Epoch 43: 100%|██████████| 50/50 [00:01<00:00, 27.09batch/s, loss=3.28, metric=26.6]\n",
            "Epoch 44: 100%|██████████| 50/50 [00:01<00:00, 27.27batch/s, loss=3.21, metric=24.8]\n",
            "Epoch 45: 100%|██████████| 50/50 [00:01<00:00, 27.19batch/s, loss=3.13, metric=22.8]\n",
            "Epoch 46: 100%|██████████| 50/50 [00:01<00:00, 27.05batch/s, loss=3.05, metric=21.2]\n",
            "Epoch 47: 100%|██████████| 50/50 [00:01<00:00, 27.14batch/s, loss=2.97, metric=19.5]\n",
            "Epoch 48: 100%|██████████| 50/50 [00:01<00:00, 26.37batch/s, loss=2.88, metric=17.9]\n",
            "Epoch 49: 100%|██████████| 50/50 [00:01<00:00, 26.42batch/s, loss=2.79, metric=16.2]\n",
            "Epoch 50: 100%|██████████| 50/50 [00:01<00:00, 27.12batch/s, loss=2.68, metric=14.6]\n",
            "Epoch 51: 100%|██████████| 50/50 [00:01<00:00, 26.95batch/s, loss=2.58, metric=13.3]\n",
            "Epoch 52: 100%|██████████| 50/50 [00:01<00:00, 26.95batch/s, loss=2.46, metric=11.7]\n",
            "Epoch 53: 100%|██████████| 50/50 [00:01<00:00, 26.86batch/s, loss=2.34, metric=10.3]\n",
            "Epoch 54: 100%|██████████| 50/50 [00:01<00:00, 26.75batch/s, loss=2.23, metric=9.3]\n",
            "Epoch 55: 100%|██████████| 50/50 [00:01<00:00, 26.14batch/s, loss=2.16, metric=8.65]\n",
            "Epoch 56: 100%|██████████| 50/50 [00:01<00:00, 26.45batch/s, loss=2.08, metric=7.97]\n",
            "Epoch 57: 100%|██████████| 50/50 [00:01<00:00, 26.78batch/s, loss=2, metric=7.36]\n",
            "Epoch 58: 100%|██████████| 50/50 [00:01<00:00, 26.87batch/s, loss=1.91, metric=6.79]\n",
            "Epoch 59: 100%|██████████| 50/50 [00:01<00:00, 26.80batch/s, loss=1.83, metric=6.22]\n",
            "Epoch 60: 100%|██████████| 50/50 [00:01<00:00, 26.71batch/s, loss=1.77, metric=5.84]\n",
            "Epoch 61: 100%|██████████| 50/50 [00:01<00:00, 26.50batch/s, loss=1.68, metric=5.36]\n",
            "Epoch 62: 100%|██████████| 50/50 [00:01<00:00, 25.99batch/s, loss=1.58, metric=4.83]\n",
            "Epoch 63: 100%|██████████| 50/50 [00:01<00:00, 26.68batch/s, loss=1.5, metric=4.49]\n",
            "Epoch 64: 100%|██████████| 50/50 [00:01<00:00, 26.76batch/s, loss=1.45, metric=4.25]\n",
            "Epoch 65: 100%|██████████| 50/50 [00:01<00:00, 26.73batch/s, loss=1.4, metric=4.06]\n",
            "Epoch 66: 100%|██████████| 50/50 [00:01<00:00, 26.47batch/s, loss=1.35, metric=3.87]\n",
            "Epoch 67: 100%|██████████| 50/50 [00:01<00:00, 26.54batch/s, loss=1.3, metric=3.69]\n",
            "Epoch 68: 100%|██████████| 50/50 [00:01<00:00, 26.02batch/s, loss=1.24, metric=3.46]\n",
            "Epoch 69: 100%|██████████| 50/50 [00:01<00:00, 26.14batch/s, loss=1.14, metric=3.12]\n",
            "Epoch 70: 100%|██████████| 50/50 [00:01<00:00, 26.47batch/s, loss=1.06, metric=2.88]\n",
            "Epoch 71: 100%|██████████| 50/50 [00:01<00:00, 26.44batch/s, loss=1.03, metric=2.79]\n",
            "Epoch 72: 100%|██████████| 50/50 [00:01<00:00, 26.49batch/s, loss=0.952, metric=2.59]\n",
            "Epoch 73: 100%|██████████| 50/50 [00:01<00:00, 26.45batch/s, loss=0.899, metric=2.46]\n",
            "Epoch 74: 100%|██████████| 50/50 [00:01<00:00, 26.01batch/s, loss=0.836, metric=2.31]\n",
            "Epoch 75: 100%|██████████| 50/50 [00:01<00:00, 25.63batch/s, loss=0.784, metric=2.19]\n",
            "Epoch 76: 100%|██████████| 50/50 [00:01<00:00, 26.55batch/s, loss=0.739, metric=2.09]\n",
            "Epoch 77: 100%|██████████| 50/50 [00:01<00:00, 26.59batch/s, loss=0.717, metric=2.05]\n",
            "Epoch 78: 100%|██████████| 50/50 [00:01<00:00, 25.06batch/s, loss=0.67, metric=1.95]\n",
            "Epoch 79: 100%|██████████| 50/50 [00:02<00:00, 23.85batch/s, loss=0.64, metric=1.9]\n",
            "Epoch 80: 100%|██████████| 50/50 [00:01<00:00, 26.23batch/s, loss=0.617, metric=1.85]\n",
            "Epoch 81: 100%|██████████| 50/50 [00:01<00:00, 26.00batch/s, loss=0.589, metric=1.8]\n",
            "Epoch 82: 100%|██████████| 50/50 [00:01<00:00, 26.23batch/s, loss=0.559, metric=1.75]\n",
            "Epoch 83: 100%|██████████| 50/50 [00:01<00:00, 26.63batch/s, loss=0.54, metric=1.72]\n",
            "Epoch 84: 100%|██████████| 50/50 [00:01<00:00, 26.64batch/s, loss=0.523, metric=1.69]\n",
            "Epoch 85: 100%|██████████| 50/50 [00:01<00:00, 26.73batch/s, loss=0.494, metric=1.64]\n",
            "Epoch 86: 100%|██████████| 50/50 [00:01<00:00, 26.50batch/s, loss=0.472, metric=1.6]\n",
            "Epoch 87: 100%|██████████| 50/50 [00:01<00:00, 26.28batch/s, loss=0.452, metric=1.57]\n",
            "Epoch 88: 100%|██████████| 50/50 [00:01<00:00, 25.71batch/s, loss=0.434, metric=1.54]\n",
            "Epoch 89: 100%|██████████| 50/50 [00:01<00:00, 26.37batch/s, loss=0.414, metric=1.51]\n",
            "Epoch 90: 100%|██████████| 50/50 [00:02<00:00, 24.84batch/s, loss=0.402, metric=1.49]\n",
            "Epoch 91: 100%|██████████| 50/50 [00:02<00:00, 21.45batch/s, loss=0.391, metric=1.48]\n",
            "Epoch 92: 100%|██████████| 50/50 [00:02<00:00, 22.59batch/s, loss=0.377, metric=1.46]\n",
            "Epoch 93: 100%|██████████| 50/50 [00:01<00:00, 25.08batch/s, loss=0.373, metric=1.45]\n",
            "Epoch 94: 100%|██████████| 50/50 [00:01<00:00, 26.10batch/s, loss=0.384, metric=1.47]\n",
            "Epoch 95: 100%|██████████| 50/50 [00:01<00:00, 26.59batch/s, loss=0.383, metric=1.47]\n",
            "Epoch 96: 100%|██████████| 50/50 [00:01<00:00, 26.58batch/s, loss=0.367, metric=1.44]\n",
            "Epoch 97: 100%|██████████| 50/50 [00:01<00:00, 26.75batch/s, loss=0.337, metric=1.4]\n",
            "Epoch 98: 100%|██████████| 50/50 [00:01<00:00, 26.70batch/s, loss=0.301, metric=1.35]\n",
            "Epoch 99: 100%|██████████| 50/50 [00:01<00:00, 26.51batch/s, loss=0.283, metric=1.33]\n"
          ]
        }
      ]
    },
    {
      "cell_type": "markdown",
      "source": [
        "### 🟡 **Step 3:** Train the model for a limited number of epochs, experimenting with various learning rates."
      ],
      "metadata": {
        "id": "ZyCd2itOLRKe"
      }
    },
    {
      "cell_type": "code",
      "source": [
        "num_epochs = 3\n",
        "\n",
        "for lr in [2, 0.9, 0.5, 0.3, 0.09, 0.05]:\n",
        "  print(f'LR={lr}')\n",
        "\n",
        "  model = LanguageModel(len(vocab), embedding_dim=300,\n",
        "                      hidden_dim=512, num_layers=2,\n",
        "                      dropout_embd=0.5, dropout_rnn=0.2).to(device)\n",
        "  model = torch.load('/content/model.pt')\n",
        "\n",
        "  # optimizer = optim.SGD(model.parameters(), lr=lr, weight_decay=0, momentum=0.9)\n",
        "  optimizer = optim.SGD(model.parameters(), lr=lr, weight_decay=1e-6, momentum=0.9)\n",
        "\n",
        "  for epoch in range(num_epochs):\n",
        "    model, _, _ = train_one_epoch(model, train_loader, loss_fn, optimizer, metric, epoch)\n",
        "\n",
        "  print()"
      ],
      "metadata": {
        "colab": {
          "base_uri": "https://localhost:8080/"
        },
        "id": "M0J1IYpEKg60",
        "outputId": "7f460b34-a9cb-4045-80b0-443e5d7cddc5"
      },
      "execution_count": null,
      "outputs": [
        {
          "metadata": {
            "tags": null
          },
          "name": "stdout",
          "output_type": "stream",
          "text": [
            "LR=2\n"
          ]
        },
        {
          "metadata": {
            "tags": null
          },
          "name": "stderr",
          "output_type": "stream",
          "text": [
            "100%|██████████| 2929/2929 [01:50<00:00, 26.56batch/s, loss=5.96, metric=388]\n",
            "Epoch 1: 100%|██████████| 2929/2929 [01:55<00:00, 25.47batch/s, loss=5.29, metric=198]\n",
            "Epoch 2: 100%|██████████| 2929/2929 [01:55<00:00, 25.41batch/s, loss=4.98, metric=146]\n"
          ]
        },
        {
          "metadata": {
            "tags": null
          },
          "name": "stdout",
          "output_type": "stream",
          "text": [
            "\n",
            "LR=0.9\n"
          ]
        },
        {
          "output_type": "stream",
          "name": "stderr",
          "text": [
            "100%|██████████| 2929/2929 [01:49<00:00, 26.64batch/s, loss=6.19, metric=490]\n",
            "Epoch 1: 100%|██████████| 2929/2929 [01:55<00:00, 25.47batch/s, loss=5.51, metric=248]\n",
            "Epoch 2: 100%|██████████| 2929/2929 [01:55<00:00, 25.43batch/s, loss=5.21, metric=183]\n"
          ]
        },
        {
          "output_type": "stream",
          "name": "stdout",
          "text": [
            "\n",
            "LR=0.5\n"
          ]
        },
        {
          "output_type": "stream",
          "name": "stderr",
          "text": [
            "100%|██████████| 2929/2929 [01:49<00:00, 26.66batch/s, loss=6.43, metric=619]\n",
            "Epoch 1: 100%|██████████| 2929/2929 [01:54<00:00, 25.51batch/s, loss=5.78, metric=325]\n",
            "Epoch 2: 100%|██████████| 2929/2929 [01:54<00:00, 25.50batch/s, loss=5.5, metric=246]\n"
          ]
        },
        {
          "output_type": "stream",
          "name": "stdout",
          "text": [
            "\n",
            "LR=0.3\n"
          ]
        },
        {
          "output_type": "stream",
          "name": "stderr",
          "text": [
            "100%|██████████| 2929/2929 [01:50<00:00, 26.55batch/s, loss=6.65, metric=775]\n",
            "Epoch 1: 100%|██████████| 2929/2929 [01:55<00:00, 25.46batch/s, loss=6.03, metric=416]\n",
            "Epoch 2: 100%|██████████| 2929/2929 [01:55<00:00, 25.31batch/s, loss=5.77, metric=320]\n"
          ]
        },
        {
          "output_type": "stream",
          "name": "stdout",
          "text": [
            "\n",
            "LR=0.09\n"
          ]
        },
        {
          "output_type": "stream",
          "name": "stderr",
          "text": [
            "100%|██████████| 2929/2929 [01:50<00:00, 26.58batch/s, loss=7.08, metric=1.18e+3]\n",
            "Epoch 1: 100%|██████████| 2929/2929 [01:55<00:00, 25.40batch/s, loss=6.68, metric=800]\n",
            "Epoch 2: 100%|██████████| 2929/2929 [01:55<00:00, 25.29batch/s, loss=6.42, metric=616]\n"
          ]
        },
        {
          "output_type": "stream",
          "name": "stdout",
          "text": [
            "\n",
            "LR=0.05\n"
          ]
        },
        {
          "output_type": "stream",
          "name": "stderr",
          "text": [
            "100%|██████████| 2929/2929 [01:49<00:00, 26.63batch/s, loss=7.15, metric=1.27e+3]\n",
            "Epoch 1: 100%|██████████| 2929/2929 [01:55<00:00, 25.43batch/s, loss=6.95, metric=1.04e+3]\n",
            "Epoch 2:  88%|████████▊ | 2592/2929 [01:41<00:13, 25.80batch/s, loss=6.83, metric=927]"
          ]
        }
      ]
    },
    {
      "cell_type": "markdown",
      "source": [
        "### 🟡 Step 4: Create a small grid using the weight decay and the best learning rate.\n"
      ],
      "metadata": {
        "id": "BGFWiU4aLcWO"
      }
    },
    {
      "cell_type": "code",
      "source": [
        "num_epochs = 1\n",
        "\n",
        "for lr in [3.]:\n",
        "  for wd in [1e-6, 1e-4, 1e-5]:\n",
        "    print(f'LR={lr}, WD={wd}')\n",
        "\n",
        "    model = LanguageModel(len(vocab), embedding_dim=300,\n",
        "                      hidden_dim=512, num_layers=2,\n",
        "                      dropout_embd=0.5, dropout_rnn=0.2).to(device)\n",
        "\n",
        "    optimizer = optim.SGD(model.parameters(), lr=lr, weight_decay=wd, momentum=0.9)\n",
        "\n",
        "    for epoch in range(num_epochs):\n",
        "      model, _, _ = train_one_epoch(model, train_loader, loss_fn, optimizer, metric, epoch)\n",
        "\n",
        "    print()"
      ],
      "metadata": {
        "colab": {
          "base_uri": "https://localhost:8080/"
        },
        "id": "ip01aCvOKg9T",
        "outputId": "f8de4c02-3164-42fd-bdd7-ba3ba1cb3026"
      },
      "execution_count": null,
      "outputs": [
        {
          "output_type": "stream",
          "name": "stdout",
          "text": [
            "LR=3.0, WD=1e-06\n"
          ]
        },
        {
          "output_type": "stream",
          "name": "stderr",
          "text": [
            "100%|██████████| 2929/2929 [01:51<00:00, 26.16batch/s, loss=5.88, metric=358]\n"
          ]
        },
        {
          "output_type": "stream",
          "name": "stdout",
          "text": [
            "\n",
            "LR=3.0, WD=0.0001\n"
          ]
        },
        {
          "output_type": "stream",
          "name": "stderr",
          "text": [
            "100%|██████████| 2929/2929 [01:51<00:00, 26.27batch/s, loss=6.27, metric=527]\n"
          ]
        },
        {
          "output_type": "stream",
          "name": "stdout",
          "text": [
            "\n",
            "LR=3.0, WD=1e-05\n"
          ]
        },
        {
          "output_type": "stream",
          "name": "stderr",
          "text": [
            "100%|██████████| 2929/2929 [01:51<00:00, 26.38batch/s, loss=5.92, metric=372]"
          ]
        },
        {
          "output_type": "stream",
          "name": "stdout",
          "text": [
            "\n"
          ]
        },
        {
          "output_type": "stream",
          "name": "stderr",
          "text": [
            "\n"
          ]
        }
      ]
    },
    {
      "cell_type": "markdown",
      "source": [
        "### 🟡 Step 5: Train model for longer epochs using the best model from step 4."
      ],
      "metadata": {
        "id": "obbzP4l_NsOa"
      }
    },
    {
      "cell_type": "code",
      "source": [
        "model = LanguageModel(len(vocab), embedding_dim=300,\n",
        "                      hidden_dim=512, num_layers=2,\n",
        "                      dropout_embd=0.5, dropout_rnn=0.5).to(device)"
      ],
      "metadata": {
        "id": "6UQ0mOHONu-z"
      },
      "execution_count": null,
      "outputs": []
    },
    {
      "cell_type": "code",
      "source": [
        "lr = 0.05\n",
        "wd = 1e-6\n",
        "optimizer = optim.SGD(model.parameters(), lr=lr, weight_decay=wd, momentum=0.9)"
      ],
      "metadata": {
        "id": "gquQaPaANzS8"
      },
      "execution_count": null,
      "outputs": []
    },
    {
      "cell_type": "code",
      "source": [
        "loss_train_hist = []\n",
        "loss_valid_hist = []\n",
        "\n",
        "metric_train_hist = []\n",
        "metric_valid_hist = []\n",
        "\n",
        "best_loss_valid = torch.inf\n",
        "epoch_counter = 0"
      ],
      "metadata": {
        "id": "TNuBmjo8NzWd"
      },
      "execution_count": null,
      "outputs": []
    },
    {
      "cell_type": "code",
      "source": [
        "num_epochs = 15\n",
        "\n",
        "for epoch in range(1, num_epochs+1):\n",
        "  # Train\n",
        "  model, loss_train, metric_train = train_one_epoch(model,\n",
        "                                                    train_loader,\n",
        "                                                    loss_fn,\n",
        "                                                    optimizer,\n",
        "                                                    metric,\n",
        "                                                    epoch)\n",
        "  # Validation\n",
        "  loss_valid, metric_valid = evaluate(model,\n",
        "                                      valid_loader,\n",
        "                                      loss_fn,\n",
        "                                      metric)\n",
        "\n",
        "  loss_train_hist.append(loss_train)\n",
        "  loss_valid_hist.append(loss_valid)\n",
        "\n",
        "  metric_train_hist.append(metric_train)\n",
        "  metric_valid_hist.append(metric_valid)\n",
        "\n",
        "  if loss_valid < best_loss_valid:\n",
        "    torch.save(model, f'model.pt')\n",
        "    best_loss_valid = loss_valid\n",
        "    print('Model Saved!')\n",
        "\n",
        "  print(f'Valid: Loss = {loss_valid:.4}, Metric = {metric_valid:.4}')\n",
        "  print()\n",
        "\n",
        "  epoch_counter += 1"
      ],
      "metadata": {
        "colab": {
          "base_uri": "https://localhost:8080/"
        },
        "id": "NaN2RFJJNzZP",
        "outputId": "ac16147c-ebfb-4531-c8b4-578060073ae6"
      },
      "execution_count": null,
      "outputs": [
        {
          "output_type": "stream",
          "name": "stderr",
          "text": [
            "Epoch 1: 100%|██████████| 2929/2929 [01:59<00:00, 24.42batch/s, loss=5.82, metric=336]\n"
          ]
        },
        {
          "output_type": "stream",
          "name": "stdout",
          "text": [
            "Model Saved!\n",
            "Valid: Loss = 5.623, Metric = 276.6\n",
            "\n"
          ]
        },
        {
          "output_type": "stream",
          "name": "stderr",
          "text": [
            "Epoch 2: 100%|██████████| 2929/2929 [01:57<00:00, 24.91batch/s, loss=5.77, metric=320]\n"
          ]
        },
        {
          "output_type": "stream",
          "name": "stdout",
          "text": [
            "Model Saved!\n",
            "Valid: Loss = 5.593, Metric = 268.5\n",
            "\n"
          ]
        },
        {
          "output_type": "stream",
          "name": "stderr",
          "text": [
            "Epoch 3: 100%|██████████| 2929/2929 [01:55<00:00, 25.31batch/s, loss=5.73, metric=308]\n"
          ]
        },
        {
          "output_type": "stream",
          "name": "stdout",
          "text": [
            "Model Saved!\n",
            "Valid: Loss = 5.562, Metric = 260.3\n",
            "\n"
          ]
        },
        {
          "output_type": "stream",
          "name": "stderr",
          "text": [
            "Epoch 4: 100%|██████████| 2929/2929 [01:55<00:00, 25.30batch/s, loss=5.69, metric=297]\n"
          ]
        },
        {
          "output_type": "stream",
          "name": "stdout",
          "text": [
            "Model Saved!\n",
            "Valid: Loss = 5.536, Metric = 253.7\n",
            "\n"
          ]
        },
        {
          "output_type": "stream",
          "name": "stderr",
          "text": [
            "Epoch 5: 100%|██████████| 2929/2929 [01:55<00:00, 25.27batch/s, loss=5.66, metric=287]\n"
          ]
        },
        {
          "output_type": "stream",
          "name": "stdout",
          "text": [
            "Model Saved!\n",
            "Valid: Loss = 5.514, Metric = 248.1\n",
            "\n"
          ]
        },
        {
          "output_type": "stream",
          "name": "stderr",
          "text": [
            "Epoch 6: 100%|██████████| 2929/2929 [01:55<00:00, 25.40batch/s, loss=5.63, metric=279]\n"
          ]
        },
        {
          "output_type": "stream",
          "name": "stdout",
          "text": [
            "Model Saved!\n",
            "Valid: Loss = 5.493, Metric = 242.9\n",
            "\n"
          ]
        },
        {
          "output_type": "stream",
          "name": "stderr",
          "text": [
            "Epoch 7: 100%|██████████| 2929/2929 [01:56<00:00, 25.10batch/s, loss=5.6, metric=271]\n"
          ]
        },
        {
          "output_type": "stream",
          "name": "stdout",
          "text": [
            "Model Saved!\n",
            "Valid: Loss = 5.475, Metric = 238.5\n",
            "\n"
          ]
        },
        {
          "output_type": "stream",
          "name": "stderr",
          "text": [
            "Epoch 8: 100%|██████████| 2929/2929 [01:56<00:00, 25.25batch/s, loss=5.57, metric=263]\n"
          ]
        },
        {
          "output_type": "stream",
          "name": "stdout",
          "text": [
            "Model Saved!\n",
            "Valid: Loss = 5.451, Metric = 233.0\n",
            "\n"
          ]
        },
        {
          "output_type": "stream",
          "name": "stderr",
          "text": [
            "Epoch 9: 100%|██████████| 2929/2929 [01:55<00:00, 25.29batch/s, loss=5.55, metric=256]\n"
          ]
        },
        {
          "output_type": "stream",
          "name": "stdout",
          "text": [
            "Model Saved!\n",
            "Valid: Loss = 5.432, Metric = 228.6\n",
            "\n"
          ]
        },
        {
          "output_type": "stream",
          "name": "stderr",
          "text": [
            "Epoch 10: 100%|██████████| 2929/2929 [01:55<00:00, 25.32batch/s, loss=5.52, metric=250]\n"
          ]
        },
        {
          "output_type": "stream",
          "name": "stdout",
          "text": [
            "Model Saved!\n",
            "Valid: Loss = 5.419, Metric = 225.6\n",
            "\n"
          ]
        },
        {
          "output_type": "stream",
          "name": "stderr",
          "text": [
            "Epoch 11: 100%|██████████| 2929/2929 [01:58<00:00, 24.64batch/s, loss=5.5, metric=244]\n"
          ]
        },
        {
          "output_type": "stream",
          "name": "stdout",
          "text": [
            "Model Saved!\n",
            "Valid: Loss = 5.397, Metric = 220.8\n",
            "\n"
          ]
        },
        {
          "output_type": "stream",
          "name": "stderr",
          "text": [
            "Epoch 12: 100%|██████████| 2929/2929 [01:55<00:00, 25.29batch/s, loss=5.47, metric=238]\n"
          ]
        },
        {
          "output_type": "stream",
          "name": "stdout",
          "text": [
            "Model Saved!\n",
            "Valid: Loss = 5.383, Metric = 217.6\n",
            "\n"
          ]
        },
        {
          "output_type": "stream",
          "name": "stderr",
          "text": [
            "Epoch 13: 100%|██████████| 2929/2929 [01:55<00:00, 25.39batch/s, loss=5.45, metric=233]\n"
          ]
        },
        {
          "output_type": "stream",
          "name": "stdout",
          "text": [
            "Model Saved!\n",
            "Valid: Loss = 5.362, Metric = 213.2\n",
            "\n"
          ]
        },
        {
          "output_type": "stream",
          "name": "stderr",
          "text": [
            "Epoch 14: 100%|██████████| 2929/2929 [01:55<00:00, 25.39batch/s, loss=5.43, metric=228]\n"
          ]
        },
        {
          "output_type": "stream",
          "name": "stdout",
          "text": [
            "Model Saved!\n",
            "Valid: Loss = 5.351, Metric = 210.8\n",
            "\n"
          ]
        },
        {
          "output_type": "stream",
          "name": "stderr",
          "text": [
            "Epoch 15: 100%|██████████| 2929/2929 [01:55<00:00, 25.42batch/s, loss=5.41, metric=223]\n"
          ]
        },
        {
          "output_type": "stream",
          "name": "stdout",
          "text": [
            "Model Saved!\n",
            "Valid: Loss = 5.343, Metric = 209.1\n",
            "\n"
          ]
        }
      ]
    },
    {
      "cell_type": "markdown",
      "source": [
        "## 🟠 Plot"
      ],
      "metadata": {
        "id": "d3S_gqVVcuyx"
      }
    },
    {
      "cell_type": "code",
      "source": [
        "plt.figure(figsize=(8, 6))\n",
        "\n",
        "plt.plot(range(epoch_counter), loss_train_hist, 'r-', label='Train')\n",
        "plt.plot(range(epoch_counter), loss_valid_hist, 'b-', label='Validation')\n",
        "\n",
        "plt.xlabel('Epoch')\n",
        "plt.ylabel('loss')\n",
        "plt.grid(True)\n",
        "plt.legend()"
      ],
      "metadata": {
        "colab": {
          "base_uri": "https://localhost:8080/",
          "height": 559
        },
        "id": "J4NhVHsXcuFN",
        "outputId": "1727ba95-0004-47f2-b8d8-371f88e75238"
      },
      "execution_count": null,
      "outputs": [
        {
          "output_type": "execute_result",
          "data": {
            "text/plain": [
              "<matplotlib.legend.Legend at 0x7db536b77e50>"
            ]
          },
          "metadata": {},
          "execution_count": 66
        },
        {
          "output_type": "display_data",
          "data": {
            "text/plain": [
              "<Figure size 800x600 with 1 Axes>"
            ],
            "image/png": "[encoded data removed]"
          },
          "metadata": {}
        }
      ]
    },
    {
      "cell_type": "code",
      "source": [
        "from google.colab import drive\n",
        "drive.mount('/content/drive')"
      ],
      "metadata": {
        "colab": {
          "base_uri": "https://localhost:8080/"
        },
        "id": "VsJqjduENzdL",
        "outputId": "5b01b384-0b65-4f21-9a04-df1b44f71eae"
      },
      "execution_count": null,
      "outputs": [
        {
          "output_type": "stream",
          "name": "stdout",
          "text": [
            "Mounted at /content/drive\n"
          ]
        }
      ]
    },
    {
      "cell_type": "markdown",
      "source": [
        "## 🟠 Main Loop"
      ],
      "metadata": {
        "id": "Q-rMNDAFkVoP"
      }
    },
    {
      "cell_type": "code",
      "source": [
        "model = LanguageModel(len(vocab), embedding_dim=300,\n",
        "                      hidden_dim=512, num_layers=2,\n",
        "                      dropout_embd=0.5, dropout_rnn=0.2).to(device)"
      ],
      "metadata": {
        "id": "r3kldxuTkWld"
      },
      "execution_count": null,
      "outputs": []
    },
    {
      "cell_type": "code",
      "source": [
        "lr = 3\n",
        "wd = 1e-6\n",
        "optimizer = optim.SGD(model.parameters(), lr=lr, weight_decay=wd, momentum=0.9)"
      ],
      "metadata": {
        "id": "jqbBO-5qkWoQ"
      },
      "execution_count": null,
      "outputs": []
    },
    {
      "cell_type": "code",
      "source": [
        "loss_train_hist = []\n",
        "loss_valid_hist = []\n",
        "\n",
        "metric_train_hist = []\n",
        "metric_valid_hist = []\n",
        "\n",
        "best_loss_valid = torch.inf\n",
        "epoch_counter = 0"
      ],
      "metadata": {
        "id": "OhNUBvTZkWqu"
      },
      "execution_count": null,
      "outputs": []
    },
    {
      "cell_type": "code",
      "source": [
        "num_epochs = 12\n",
        "\n",
        "for epoch in range(1, num_epochs+1):\n",
        "  # Train\n",
        "  model, loss_train, metric_train = train_one_epoch(model,\n",
        "                                                    train_loader,\n",
        "                                                    loss_fn,\n",
        "                                                    optimizer,\n",
        "                                                    metric,\n",
        "                                                    epoch)\n",
        "  # Validation\n",
        "  loss_valid, metric_valid = evaluate(model,\n",
        "                                      valid_loader,\n",
        "                                      loss_fn,\n",
        "                                      metric)\n",
        "\n",
        "  loss_train_hist.append(loss_train)\n",
        "  loss_valid_hist.append(loss_valid)\n",
        "\n",
        "  metric_train_hist.append(metric_train)\n",
        "  metric_valid_hist.append(metric_valid)\n",
        "\n",
        "  if loss_valid < best_loss_valid:\n",
        "    torch.save(model, f'model.pt')\n",
        "    best_loss_valid = loss_valid\n",
        "    print('Model Saved!')\n",
        "\n",
        "  print(f'Valid: Loss = {loss_valid:.4}, Metric = {metric_valid:.4}')\n",
        "  print()\n",
        "\n",
        "  epoch_counter += 1"
      ],
      "metadata": {
        "colab": {
          "base_uri": "https://localhost:8080/"
        },
        "id": "nIOEMeUkkWsj",
        "outputId": "6bcc6641-670d-462f-9e98-b941e1c1403e"
      },
      "execution_count": null,
      "outputs": [
        {
          "output_type": "stream",
          "name": "stderr",
          "text": [
            "Epoch 1: 100%|██████████| 2929/2929 [01:55<00:00, 25.37batch/s, loss=5.89, metric=361]\n"
          ]
        },
        {
          "output_type": "stream",
          "name": "stdout",
          "text": [
            "Model Saved!\n",
            "Valid: Loss = 5.33, Metric = 206.5\n",
            "\n"
          ]
        },
        {
          "output_type": "stream",
          "name": "stderr",
          "text": [
            "Epoch 2: 100%|██████████| 2929/2929 [01:57<00:00, 24.82batch/s, loss=5.25, metric=190]\n"
          ]
        },
        {
          "output_type": "stream",
          "name": "stdout",
          "text": [
            "Model Saved!\n",
            "Valid: Loss = 5.103, Metric = 164.5\n",
            "\n"
          ]
        },
        {
          "output_type": "stream",
          "name": "stderr",
          "text": [
            "Epoch 3: 100%|██████████| 2929/2929 [01:55<00:00, 25.28batch/s, loss=4.97, metric=144]\n"
          ]
        },
        {
          "output_type": "stream",
          "name": "stdout",
          "text": [
            "Model Saved!\n",
            "Valid: Loss = 5.024, Metric = 151.9\n",
            "\n"
          ]
        },
        {
          "output_type": "stream",
          "name": "stderr",
          "text": [
            "Epoch 4: 100%|██████████| 2929/2929 [01:55<00:00, 25.35batch/s, loss=4.79, metric=120]\n"
          ]
        },
        {
          "output_type": "stream",
          "name": "stdout",
          "text": [
            "Model Saved!\n",
            "Valid: Loss = 4.969, Metric = 143.9\n",
            "\n"
          ]
        },
        {
          "output_type": "stream",
          "name": "stderr",
          "text": [
            "Epoch 5: 100%|██████████| 2929/2929 [01:55<00:00, 25.28batch/s, loss=4.66, metric=106]\n"
          ]
        },
        {
          "output_type": "stream",
          "name": "stdout",
          "text": [
            "Model Saved!\n",
            "Valid: Loss = 4.964, Metric = 143.2\n",
            "\n"
          ]
        },
        {
          "output_type": "stream",
          "name": "stderr",
          "text": [
            "Epoch 6: 100%|██████████| 2929/2929 [01:56<00:00, 25.18batch/s, loss=4.56, metric=95.9]\n"
          ]
        },
        {
          "output_type": "stream",
          "name": "stdout",
          "text": [
            "Valid: Loss = 4.964, Metric = 143.2\n",
            "\n"
          ]
        },
        {
          "output_type": "stream",
          "name": "stderr",
          "text": [
            "Epoch 7: 100%|██████████| 2929/2929 [01:56<00:00, 25.18batch/s, loss=4.48, metric=88.6]\n"
          ]
        },
        {
          "output_type": "stream",
          "name": "stdout",
          "text": [
            "Model Saved!\n",
            "Valid: Loss = 4.958, Metric = 142.2\n",
            "\n"
          ]
        },
        {
          "output_type": "stream",
          "name": "stderr",
          "text": [
            "Epoch 8: 100%|██████████| 2929/2929 [01:59<00:00, 24.46batch/s, loss=4.42, metric=83.1]\n"
          ]
        },
        {
          "output_type": "stream",
          "name": "stdout",
          "text": [
            "Valid: Loss = 4.97, Metric = 144.0\n",
            "\n"
          ]
        },
        {
          "output_type": "stream",
          "name": "stderr",
          "text": [
            "Epoch 9: 100%|██████████| 2929/2929 [01:57<00:00, 25.02batch/s, loss=4.37, metric=78.7]\n"
          ]
        },
        {
          "output_type": "stream",
          "name": "stdout",
          "text": [
            "Valid: Loss = 4.966, Metric = 143.5\n",
            "\n"
          ]
        },
        {
          "output_type": "stream",
          "name": "stderr",
          "text": [
            "Epoch 10: 100%|██████████| 2929/2929 [01:59<00:00, 24.44batch/s, loss=4.32, metric=75.2]\n"
          ]
        },
        {
          "output_type": "stream",
          "name": "stdout",
          "text": [
            "Valid: Loss = 4.977, Metric = 145.0\n",
            "\n"
          ]
        },
        {
          "output_type": "stream",
          "name": "stderr",
          "text": [
            "Epoch 11: 100%|██████████| 2929/2929 [01:57<00:00, 25.03batch/s, loss=4.28, metric=72.2]\n"
          ]
        },
        {
          "output_type": "stream",
          "name": "stdout",
          "text": [
            "Valid: Loss = 5.004, Metric = 149.1\n",
            "\n"
          ]
        },
        {
          "output_type": "stream",
          "name": "stderr",
          "text": [
            "Epoch 12: 100%|██████████| 2929/2929 [01:55<00:00, 25.26batch/s, loss=4.24, metric=69.8]\n"
          ]
        },
        {
          "output_type": "stream",
          "name": "stdout",
          "text": [
            "Valid: Loss = 4.987, Metric = 146.5\n",
            "\n"
          ]
        }
      ]
    },
    {
      "cell_type": "code",
      "source": [
        "plt.figure(figsize=(8, 6))\n",
        "\n",
        "plt.plot(range(epoch_counter), loss_train_hist, 'r-', label='Train')\n",
        "plt.plot(range(epoch_counter), loss_valid_hist, 'b-', label='Validation')\n",
        "\n",
        "plt.xlabel('Epoch')\n",
        "plt.ylabel('loss')\n",
        "plt.grid(True)\n",
        "plt.legend()"
      ],
      "metadata": {
        "colab": {
          "base_uri": "https://localhost:8080/",
          "height": 559
        },
        "id": "FaR-rv1MkWuy",
        "outputId": "74962bb8-00c8-41a0-b804-330d2cb888ca"
      },
      "execution_count": null,
      "outputs": [
        {
          "output_type": "execute_result",
          "data": {
            "text/plain": [
              "<matplotlib.legend.Legend at 0x7db530123880>"
            ]
          },
          "metadata": {},
          "execution_count": 74
        },
        {
          "output_type": "display_data",
          "data": {
            "text/plain": [
              "<Figure size 800x600 with 1 Axes>"
            ],
            "image/png": "[encoded data removed]"
          },
          "metadata": {}
        }
      ]
    },
    {
      "cell_type": "markdown",
      "source": [
        "# 🔴 **Test**"
      ],
      "metadata": {
        "id": "WDwUGGwUc2Ii"
      }
    },
    {
      "cell_type": "code",
      "source": [
        "model_path = '/content/model.pt'\n",
        "model = torch.load(model_path)\n",
        "model.eval()"
      ],
      "metadata": {
        "colab": {
          "base_uri": "https://localhost:8080/"
        },
        "id": "11w0gIIXN-P2",
        "outputId": "8a57dd64-dc60-4ec2-a4b0-d49eef79b354"
      },
      "execution_count": null,
      "outputs": [
        {
          "output_type": "execute_result",
          "data": {
            "text/plain": [
              "LanguageModel(\n",
              "  (embedding): Embedding(28782, 300)\n",
              "  (dropout): Dropout(p=0.5, inplace=False)\n",
              "  (lstm): LSTM(300, 512, num_layers=2, batch_first=True, dropout=0.2)\n",
              "  (fc): Linear(in_features=512, out_features=28782, bias=True)\n",
              ")"
            ]
          },
          "metadata": {},
          "execution_count": 75
        }
      ]
    },
    {
      "cell_type": "code",
      "source": [
        "loss_valid, metric_valid = evaluate(model, valid_loader, loss_fn, metric)\n",
        "metric_valid"
      ],
      "metadata": {
        "colab": {
          "base_uri": "https://localhost:8080/"
        },
        "id": "kR7OMyItpujO",
        "outputId": "7adbb281-9fe1-4d01-b874-c7525960c118"
      },
      "execution_count": null,
      "outputs": [
        {
          "output_type": "execute_result",
          "data": {
            "text/plain": [
              "142.24684143066406"
            ]
          },
          "metadata": {},
          "execution_count": 76
        }
      ]
    },
    {
      "cell_type": "code",
      "source": [
        "loss_test, metric_test = evaluate(model, test_loader, loss_fn, metric)\n",
        "metric_test"
      ],
      "metadata": {
        "colab": {
          "base_uri": "https://localhost:8080/"
        },
        "id": "MsmMi3esN-UJ",
        "outputId": "e41e4978-4f55-420f-e475-19bdec6eb9d3"
      },
      "execution_count": null,
      "outputs": [
        {
          "output_type": "execute_result",
          "data": {
            "text/plain": [
              "135.1143798828125"
            ]
          },
          "metadata": {},
          "execution_count": 77
        }
      ]
    },
    {
      "cell_type": "markdown",
      "source": [
        "# 🔴 **Generate**"
      ],
      "metadata": {
        "id": "eA4oX6V7pUWu"
      }
    },
    {
      "cell_type": "code",
      "source": [
        "model_path = 'model.pt'\n",
        "model = torch.load(model_path)\n",
        "model.eval()"
      ],
      "metadata": {
        "colab": {
          "base_uri": "https://localhost:8080/"
        },
        "id": "TomHzMiVN-Wo",
        "outputId": "5731955a-0c32-439a-d906-13f3dc69bf0b"
      },
      "execution_count": null,
      "outputs": [
        {
          "output_type": "execute_result",
          "data": {
            "text/plain": [
              "LanguageModel(\n",
              "  (embedding): Embedding(28782, 300)\n",
              "  (dropout): Dropout(p=0.5, inplace=False)\n",
              "  (lstm): LSTM(300, 512, num_layers=2, batch_first=True, dropout=0.2)\n",
              "  (fc): Linear(in_features=512, out_features=28782, bias=True)\n",
              ")"
            ]
          },
          "metadata": {},
          "execution_count": 78
        }
      ]
    },
    {
      "cell_type": "code",
      "source": [
        "prompt = 'In a galaxy far, far away, there'\n",
        "\n",
        "indices = vocab(tokenizer(prompt))\n",
        "itos = vocab.get_itos()\n",
        "\n",
        "max_seq_len = 35\n",
        "for i in range(max_seq_len):\n",
        "  src = torch.LongTensor(indices).to(device)\n",
        "\n",
        "  with torch.no_grad():\n",
        "    prediction = model(src)\n",
        "\n",
        "  # Method 1\n",
        "  # idx = torch.argmax(prediction[-1])\n",
        "  # itos = vocab.get_itos()\n",
        "  # itos[idx]\n",
        "\n",
        "  # Method 2\n",
        "  temperature = 0.5\n",
        "  probs = torch.softmax(prediction[-1]/temperature, dim=0)\n",
        "\n",
        "  idx = vocab['<ukn>']\n",
        "  while idx == vocab['<ukn>']:\n",
        "    idx = torch.multinomial(probs, num_samples=1).item()\n",
        "\n",
        "  token = itos[idx]\n",
        "  prompt += ' ' + token\n",
        "\n",
        "  if idx == vocab['.']:\n",
        "    break\n",
        "\n",
        "  indices.append(idx)\n",
        "\n",
        "print(prompt)"
      ],
      "metadata": {
        "colab": {
          "base_uri": "https://localhost:8080/"
        },
        "id": "bQ2rzdhUp68N",
        "outputId": "2bf4b32a-4deb-490e-96c2-7438ca373a76"
      },
      "execution_count": null,
      "outputs": [
        {
          "output_type": "stream",
          "name": "stdout",
          "text": [
            "In a galaxy far, far away, there were several other sightings , and the other few homes were recorded .\n"
          ]
        }
      ]
    },
    {
      "cell_type": "code",
      "source": [
        "def generate(prompt, max_seq_len, temperature, model, tokenizer, vocab, seed=None):\n",
        "  if seed is not None:\n",
        "    torch.manual_seed(seed)\n",
        "\n",
        "  indices = vocab(tokenizer(prompt))\n",
        "  itos = vocab.get_itos()\n",
        "\n",
        "  for i in range(max_seq_len):\n",
        "    src = torch.LongTensor(indices).to(device)\n",
        "\n",
        "    with torch.no_grad():\n",
        "      prediction = model(src)\n",
        "\n",
        "    # Method 1\n",
        "    # idx = torch.argmax(prediction[-1])\n",
        "    # itos = vocab.get_itos()\n",
        "    # itos[idx]\n",
        "\n",
        "    # Method 2\n",
        "    probs = torch.softmax(prediction[-1]/temperature, dim=0)\n",
        "\n",
        "    idx = vocab['<ukn>']\n",
        "    while idx == vocab['<ukn>']:\n",
        "      idx = torch.multinomial(probs, num_samples=1).item()\n",
        "\n",
        "    token = itos[idx]\n",
        "    prompt += ' ' + token\n",
        "\n",
        "    if idx == vocab['.']:\n",
        "      return prompt\n",
        "\n",
        "    indices.append(idx)\n",
        "\n",
        "  return prompt"
      ],
      "metadata": {
        "id": "P5NS8GN_p6_A"
      },
      "execution_count": null,
      "outputs": []
    },
    {
      "cell_type": "code",
      "source": [
        "prompt = 'In a galaxy far, far away, there'\n",
        "generate(prompt, 35, 0.5, model, tokenizer, vocab)"
      ],
      "metadata": {
        "colab": {
          "base_uri": "https://localhost:8080/",
          "height": 35
        },
        "id": "HjUwtISdvhyF",
        "outputId": "372416cb-78a5-49c1-9bfc-a0dd6ca24e87"
      },
      "execution_count": null,
      "outputs": [
        {
          "output_type": "execute_result",
          "data": {
            "text/plain": [
              "'In a galaxy far, far away, there are two separate species species in the genus .'"
            ],
            "application/vnd.google.colaboratory.intrinsic+json": {
              "type": "string"
            }
          },
          "metadata": {},
          "execution_count": 83
        }
      ]
    },
    {
      "cell_type": "code",
      "source": [
        "\n",
        "prompt = 'The sun was setting in the'\n",
        "generate(prompt, 35, 0.5, model, tokenizer, vocab)"
      ],
      "metadata": {
        "colab": {
          "base_uri": "https://localhost:8080/",
          "height": 35
        },
        "id": "9H90PAnrvlUw",
        "outputId": "e3840371-88e5-43fc-9ca2-67ec612363dd"
      },
      "execution_count": null,
      "outputs": [
        {
          "output_type": "execute_result",
          "data": {
            "text/plain": [
              "'The sun was setting in the bone marrow .'"
            ],
            "application/vnd.google.colaboratory.intrinsic+json": {
              "type": "string"
            }
          },
          "metadata": {},
          "execution_count": 84
        }
      ]
    },
    {
      "cell_type": "code",
      "source": [
        "prompt = 'Once upon a time, there lived a young princess named'\n",
        "prompt = 'What is the meaning '\n",
        "prompt = 'What is the name '\n",
        "generate(prompt, 35, 0.5, model, tokenizer, vocab)"
      ],
      "metadata": {
        "colab": {
          "base_uri": "https://localhost:8080/",
          "height": 35
        },
        "id": "dD62W00jp7DY",
        "outputId": "bb36bc24-9bce-4f66-a3f8-e96d23c4a9b3"
      },
      "execution_count": null,
      "outputs": [
        {
          "output_type": "execute_result",
          "data": {
            "text/plain": [
              "'What is the name  of the word .'"
            ],
            "application/vnd.google.colaboratory.intrinsic+json": {
              "type": "string"
            }
          },
          "metadata": {},
          "execution_count": 82
        }
      ]
    },
    {
      "cell_type": "code",
      "source": [],
      "metadata": {
        "id": "LPWr_bPMp7F4"
      },
      "execution_count": null,
      "outputs": []
    }
  ]
}